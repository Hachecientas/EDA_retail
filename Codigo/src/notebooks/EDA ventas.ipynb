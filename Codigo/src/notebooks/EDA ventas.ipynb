{
 "cells": [
  {
   "cell_type": "code",
   "execution_count": 94,
   "metadata": {},
   "outputs": [],
   "source": [
    "import pandas as pd\n",
    "import numpy as np\n",
    "import matplotlib.pyplot as plt\n",
    "import seaborn as sns\n",
    "import datetime\n",
    "from scipy.stats import ttest_ind\n",
    "import plotly as py\n",
    "import plotly.graph_objs as go"
   ]
  },
  {
   "cell_type": "code",
   "execution_count": 95,
   "metadata": {},
   "outputs": [
    {
     "data": {
      "text/html": [
       "<div>\n",
       "<style scoped>\n",
       "    .dataframe tbody tr th:only-of-type {\n",
       "        vertical-align: middle;\n",
       "    }\n",
       "\n",
       "    .dataframe tbody tr th {\n",
       "        vertical-align: top;\n",
       "    }\n",
       "\n",
       "    .dataframe thead th {\n",
       "        text-align: right;\n",
       "    }\n",
       "</style>\n",
       "<table border=\"1\" class=\"dataframe\">\n",
       "  <thead>\n",
       "    <tr style=\"text-align: right;\">\n",
       "      <th></th>\n",
       "      <th>Category</th>\n",
       "      <th>City</th>\n",
       "      <th>Country</th>\n",
       "      <th>Customer ID</th>\n",
       "      <th>Customer Name</th>\n",
       "      <th>Discount</th>\n",
       "      <th>Market</th>\n",
       "      <th>记录数</th>\n",
       "      <th>Order Date</th>\n",
       "      <th>Order ID</th>\n",
       "      <th>...</th>\n",
       "      <th>Sales</th>\n",
       "      <th>Segment</th>\n",
       "      <th>Ship Date</th>\n",
       "      <th>Ship Mode</th>\n",
       "      <th>Shipping Cost</th>\n",
       "      <th>State</th>\n",
       "      <th>Sub-Category</th>\n",
       "      <th>Year</th>\n",
       "      <th>Market2</th>\n",
       "      <th>weeknum</th>\n",
       "    </tr>\n",
       "  </thead>\n",
       "  <tbody>\n",
       "    <tr>\n",
       "      <th>0</th>\n",
       "      <td>Office Supplies</td>\n",
       "      <td>Los Angeles</td>\n",
       "      <td>United States</td>\n",
       "      <td>LS-172304</td>\n",
       "      <td>Lycoris Saunders</td>\n",
       "      <td>0.0</td>\n",
       "      <td>US</td>\n",
       "      <td>1</td>\n",
       "      <td>2011-01-07 00:00:00.000</td>\n",
       "      <td>CA-2011-130813</td>\n",
       "      <td>...</td>\n",
       "      <td>19</td>\n",
       "      <td>Consumer</td>\n",
       "      <td>2011-01-09 00:00:00.000</td>\n",
       "      <td>Second Class</td>\n",
       "      <td>4.37</td>\n",
       "      <td>California</td>\n",
       "      <td>Paper</td>\n",
       "      <td>2011</td>\n",
       "      <td>North America</td>\n",
       "      <td>2</td>\n",
       "    </tr>\n",
       "    <tr>\n",
       "      <th>1</th>\n",
       "      <td>Office Supplies</td>\n",
       "      <td>Los Angeles</td>\n",
       "      <td>United States</td>\n",
       "      <td>MV-174854</td>\n",
       "      <td>Mark Van Huff</td>\n",
       "      <td>0.0</td>\n",
       "      <td>US</td>\n",
       "      <td>1</td>\n",
       "      <td>2011-01-21 00:00:00.000</td>\n",
       "      <td>CA-2011-148614</td>\n",
       "      <td>...</td>\n",
       "      <td>19</td>\n",
       "      <td>Consumer</td>\n",
       "      <td>2011-01-26 00:00:00.000</td>\n",
       "      <td>Standard Class</td>\n",
       "      <td>0.94</td>\n",
       "      <td>California</td>\n",
       "      <td>Paper</td>\n",
       "      <td>2011</td>\n",
       "      <td>North America</td>\n",
       "      <td>4</td>\n",
       "    </tr>\n",
       "    <tr>\n",
       "      <th>2</th>\n",
       "      <td>Office Supplies</td>\n",
       "      <td>Los Angeles</td>\n",
       "      <td>United States</td>\n",
       "      <td>CS-121304</td>\n",
       "      <td>Chad Sievert</td>\n",
       "      <td>0.0</td>\n",
       "      <td>US</td>\n",
       "      <td>1</td>\n",
       "      <td>2011-08-05 00:00:00.000</td>\n",
       "      <td>CA-2011-118962</td>\n",
       "      <td>...</td>\n",
       "      <td>21</td>\n",
       "      <td>Consumer</td>\n",
       "      <td>2011-08-09 00:00:00.000</td>\n",
       "      <td>Standard Class</td>\n",
       "      <td>1.81</td>\n",
       "      <td>California</td>\n",
       "      <td>Paper</td>\n",
       "      <td>2011</td>\n",
       "      <td>North America</td>\n",
       "      <td>32</td>\n",
       "    </tr>\n",
       "    <tr>\n",
       "      <th>3</th>\n",
       "      <td>Office Supplies</td>\n",
       "      <td>Los Angeles</td>\n",
       "      <td>United States</td>\n",
       "      <td>CS-121304</td>\n",
       "      <td>Chad Sievert</td>\n",
       "      <td>0.0</td>\n",
       "      <td>US</td>\n",
       "      <td>1</td>\n",
       "      <td>2011-08-05 00:00:00.000</td>\n",
       "      <td>CA-2011-118962</td>\n",
       "      <td>...</td>\n",
       "      <td>111</td>\n",
       "      <td>Consumer</td>\n",
       "      <td>2011-08-09 00:00:00.000</td>\n",
       "      <td>Standard Class</td>\n",
       "      <td>4.59</td>\n",
       "      <td>California</td>\n",
       "      <td>Paper</td>\n",
       "      <td>2011</td>\n",
       "      <td>North America</td>\n",
       "      <td>32</td>\n",
       "    </tr>\n",
       "    <tr>\n",
       "      <th>4</th>\n",
       "      <td>Office Supplies</td>\n",
       "      <td>Los Angeles</td>\n",
       "      <td>United States</td>\n",
       "      <td>AP-109154</td>\n",
       "      <td>Arthur Prichep</td>\n",
       "      <td>0.0</td>\n",
       "      <td>US</td>\n",
       "      <td>1</td>\n",
       "      <td>2011-09-29 00:00:00.000</td>\n",
       "      <td>CA-2011-146969</td>\n",
       "      <td>...</td>\n",
       "      <td>6</td>\n",
       "      <td>Consumer</td>\n",
       "      <td>2011-10-03 00:00:00.000</td>\n",
       "      <td>Standard Class</td>\n",
       "      <td>1.32</td>\n",
       "      <td>California</td>\n",
       "      <td>Paper</td>\n",
       "      <td>2011</td>\n",
       "      <td>North America</td>\n",
       "      <td>40</td>\n",
       "    </tr>\n",
       "    <tr>\n",
       "      <th>...</th>\n",
       "      <td>...</td>\n",
       "      <td>...</td>\n",
       "      <td>...</td>\n",
       "      <td>...</td>\n",
       "      <td>...</td>\n",
       "      <td>...</td>\n",
       "      <td>...</td>\n",
       "      <td>...</td>\n",
       "      <td>...</td>\n",
       "      <td>...</td>\n",
       "      <td>...</td>\n",
       "      <td>...</td>\n",
       "      <td>...</td>\n",
       "      <td>...</td>\n",
       "      <td>...</td>\n",
       "      <td>...</td>\n",
       "      <td>...</td>\n",
       "      <td>...</td>\n",
       "      <td>...</td>\n",
       "      <td>...</td>\n",
       "      <td>...</td>\n",
       "    </tr>\n",
       "    <tr>\n",
       "      <th>51285</th>\n",
       "      <td>Office Supplies</td>\n",
       "      <td>Los Angeles</td>\n",
       "      <td>United States</td>\n",
       "      <td>AM-103604</td>\n",
       "      <td>Alice McCarthy</td>\n",
       "      <td>0.2</td>\n",
       "      <td>US</td>\n",
       "      <td>1</td>\n",
       "      <td>2014-12-03 00:00:00.000</td>\n",
       "      <td>CA-2014-109701</td>\n",
       "      <td>...</td>\n",
       "      <td>69</td>\n",
       "      <td>Corporate</td>\n",
       "      <td>2014-12-04 00:00:00.000</td>\n",
       "      <td>Same Day</td>\n",
       "      <td>5.15</td>\n",
       "      <td>California</td>\n",
       "      <td>Binders</td>\n",
       "      <td>2014</td>\n",
       "      <td>North America</td>\n",
       "      <td>49</td>\n",
       "    </tr>\n",
       "    <tr>\n",
       "      <th>51286</th>\n",
       "      <td>Office Supplies</td>\n",
       "      <td>Los Angeles</td>\n",
       "      <td>United States</td>\n",
       "      <td>AM-103604</td>\n",
       "      <td>Alice McCarthy</td>\n",
       "      <td>0.2</td>\n",
       "      <td>US</td>\n",
       "      <td>1</td>\n",
       "      <td>2014-12-03 00:00:00.000</td>\n",
       "      <td>CA-2014-109701</td>\n",
       "      <td>...</td>\n",
       "      <td>9</td>\n",
       "      <td>Corporate</td>\n",
       "      <td>2014-12-04 00:00:00.000</td>\n",
       "      <td>Same Day</td>\n",
       "      <td>0.44</td>\n",
       "      <td>California</td>\n",
       "      <td>Binders</td>\n",
       "      <td>2014</td>\n",
       "      <td>North America</td>\n",
       "      <td>49</td>\n",
       "    </tr>\n",
       "    <tr>\n",
       "      <th>51287</th>\n",
       "      <td>Office Supplies</td>\n",
       "      <td>Los Angeles</td>\n",
       "      <td>United States</td>\n",
       "      <td>HR-147704</td>\n",
       "      <td>Hallie Redmond</td>\n",
       "      <td>0.2</td>\n",
       "      <td>US</td>\n",
       "      <td>1</td>\n",
       "      <td>2014-12-18 00:00:00.000</td>\n",
       "      <td>CA-2014-106964</td>\n",
       "      <td>...</td>\n",
       "      <td>12</td>\n",
       "      <td>Home Office</td>\n",
       "      <td>2014-12-21 00:00:00.000</td>\n",
       "      <td>First Class</td>\n",
       "      <td>0.31</td>\n",
       "      <td>California</td>\n",
       "      <td>Binders</td>\n",
       "      <td>2014</td>\n",
       "      <td>North America</td>\n",
       "      <td>51</td>\n",
       "    </tr>\n",
       "    <tr>\n",
       "      <th>51288</th>\n",
       "      <td>Office Supplies</td>\n",
       "      <td>Los Angeles</td>\n",
       "      <td>United States</td>\n",
       "      <td>RM-196754</td>\n",
       "      <td>Robert Marley</td>\n",
       "      <td>0.2</td>\n",
       "      <td>US</td>\n",
       "      <td>1</td>\n",
       "      <td>2014-12-25 00:00:00.000</td>\n",
       "      <td>CA-2014-145219</td>\n",
       "      <td>...</td>\n",
       "      <td>90</td>\n",
       "      <td>Home Office</td>\n",
       "      <td>2014-12-26 00:00:00.000</td>\n",
       "      <td>First Class</td>\n",
       "      <td>15.95</td>\n",
       "      <td>California</td>\n",
       "      <td>Binders</td>\n",
       "      <td>2014</td>\n",
       "      <td>North America</td>\n",
       "      <td>52</td>\n",
       "    </tr>\n",
       "    <tr>\n",
       "      <th>51289</th>\n",
       "      <td>Office Supplies</td>\n",
       "      <td>Los Angeles</td>\n",
       "      <td>United States</td>\n",
       "      <td>FH-143654</td>\n",
       "      <td>Fred Hopkins</td>\n",
       "      <td>0.2</td>\n",
       "      <td>US</td>\n",
       "      <td>1</td>\n",
       "      <td>2014-12-26 00:00:00.000</td>\n",
       "      <td>CA-2014-121398</td>\n",
       "      <td>...</td>\n",
       "      <td>154</td>\n",
       "      <td>Corporate</td>\n",
       "      <td>2014-12-30 00:00:00.000</td>\n",
       "      <td>Standard Class</td>\n",
       "      <td>9.59</td>\n",
       "      <td>California</td>\n",
       "      <td>Binders</td>\n",
       "      <td>2014</td>\n",
       "      <td>North America</td>\n",
       "      <td>52</td>\n",
       "    </tr>\n",
       "  </tbody>\n",
       "</table>\n",
       "<p>51290 rows × 27 columns</p>\n",
       "</div>"
      ],
      "text/plain": [
       "              Category         City        Country Customer ID  \\\n",
       "0      Office Supplies  Los Angeles  United States   LS-172304   \n",
       "1      Office Supplies  Los Angeles  United States   MV-174854   \n",
       "2      Office Supplies  Los Angeles  United States   CS-121304   \n",
       "3      Office Supplies  Los Angeles  United States   CS-121304   \n",
       "4      Office Supplies  Los Angeles  United States   AP-109154   \n",
       "...                ...          ...            ...         ...   \n",
       "51285  Office Supplies  Los Angeles  United States   AM-103604   \n",
       "51286  Office Supplies  Los Angeles  United States   AM-103604   \n",
       "51287  Office Supplies  Los Angeles  United States   HR-147704   \n",
       "51288  Office Supplies  Los Angeles  United States   RM-196754   \n",
       "51289  Office Supplies  Los Angeles  United States   FH-143654   \n",
       "\n",
       "          Customer Name  Discount Market  记录数               Order Date  \\\n",
       "0      Lycoris Saunders       0.0     US    1  2011-01-07 00:00:00.000   \n",
       "1         Mark Van Huff       0.0     US    1  2011-01-21 00:00:00.000   \n",
       "2          Chad Sievert       0.0     US    1  2011-08-05 00:00:00.000   \n",
       "3          Chad Sievert       0.0     US    1  2011-08-05 00:00:00.000   \n",
       "4        Arthur Prichep       0.0     US    1  2011-09-29 00:00:00.000   \n",
       "...                 ...       ...    ...  ...                      ...   \n",
       "51285    Alice McCarthy       0.2     US    1  2014-12-03 00:00:00.000   \n",
       "51286    Alice McCarthy       0.2     US    1  2014-12-03 00:00:00.000   \n",
       "51287    Hallie Redmond       0.2     US    1  2014-12-18 00:00:00.000   \n",
       "51288     Robert Marley       0.2     US    1  2014-12-25 00:00:00.000   \n",
       "51289      Fred Hopkins       0.2     US    1  2014-12-26 00:00:00.000   \n",
       "\n",
       "             Order ID  ... Sales      Segment                Ship Date  \\\n",
       "0      CA-2011-130813  ...    19     Consumer  2011-01-09 00:00:00.000   \n",
       "1      CA-2011-148614  ...    19     Consumer  2011-01-26 00:00:00.000   \n",
       "2      CA-2011-118962  ...    21     Consumer  2011-08-09 00:00:00.000   \n",
       "3      CA-2011-118962  ...   111     Consumer  2011-08-09 00:00:00.000   \n",
       "4      CA-2011-146969  ...     6     Consumer  2011-10-03 00:00:00.000   \n",
       "...               ...  ...   ...          ...                      ...   \n",
       "51285  CA-2014-109701  ...    69    Corporate  2014-12-04 00:00:00.000   \n",
       "51286  CA-2014-109701  ...     9    Corporate  2014-12-04 00:00:00.000   \n",
       "51287  CA-2014-106964  ...    12  Home Office  2014-12-21 00:00:00.000   \n",
       "51288  CA-2014-145219  ...    90  Home Office  2014-12-26 00:00:00.000   \n",
       "51289  CA-2014-121398  ...   154    Corporate  2014-12-30 00:00:00.000   \n",
       "\n",
       "            Ship Mode  Shipping Cost       State  Sub-Category  Year  \\\n",
       "0        Second Class           4.37  California         Paper  2011   \n",
       "1      Standard Class           0.94  California         Paper  2011   \n",
       "2      Standard Class           1.81  California         Paper  2011   \n",
       "3      Standard Class           4.59  California         Paper  2011   \n",
       "4      Standard Class           1.32  California         Paper  2011   \n",
       "...               ...            ...         ...           ...   ...   \n",
       "51285        Same Day           5.15  California       Binders  2014   \n",
       "51286        Same Day           0.44  California       Binders  2014   \n",
       "51287     First Class           0.31  California       Binders  2014   \n",
       "51288     First Class          15.95  California       Binders  2014   \n",
       "51289  Standard Class           9.59  California       Binders  2014   \n",
       "\n",
       "             Market2 weeknum  \n",
       "0      North America       2  \n",
       "1      North America       4  \n",
       "2      North America      32  \n",
       "3      North America      32  \n",
       "4      North America      40  \n",
       "...              ...     ...  \n",
       "51285  North America      49  \n",
       "51286  North America      49  \n",
       "51287  North America      51  \n",
       "51288  North America      52  \n",
       "51289  North America      52  \n",
       "\n",
       "[51290 rows x 27 columns]"
      ]
     },
     "execution_count": 95,
     "metadata": {},
     "output_type": "execute_result"
    }
   ],
   "source": [
    "ventas = pd.read_table('src/data/Global Superstore.txt')\n",
    "ventas"
   ]
  },
  {
   "cell_type": "code",
   "execution_count": 96,
   "metadata": {},
   "outputs": [
    {
     "name": "stdout",
     "output_type": "stream",
     "text": [
      "<class 'pandas.core.frame.DataFrame'>\n",
      "RangeIndex: 51290 entries, 0 to 51289\n",
      "Data columns (total 27 columns):\n",
      " #   Column          Non-Null Count  Dtype  \n",
      "---  ------          --------------  -----  \n",
      " 0   Category        51290 non-null  object \n",
      " 1   City            51290 non-null  object \n",
      " 2   Country         51290 non-null  object \n",
      " 3   Customer ID     51290 non-null  object \n",
      " 4   Customer Name   51290 non-null  object \n",
      " 5   Discount        51290 non-null  float64\n",
      " 6   Market          51290 non-null  object \n",
      " 7   记录数             51290 non-null  int64  \n",
      " 8   Order Date      51290 non-null  object \n",
      " 9   Order ID        51290 non-null  object \n",
      " 10  Order Priority  51290 non-null  object \n",
      " 11  Product ID      51290 non-null  object \n",
      " 12  Product Name    51290 non-null  object \n",
      " 13  Profit          51290 non-null  float64\n",
      " 14  Quantity        51290 non-null  int64  \n",
      " 15  Region          51290 non-null  object \n",
      " 16  Row ID          51290 non-null  int64  \n",
      " 17  Sales           51290 non-null  int64  \n",
      " 18  Segment         51290 non-null  object \n",
      " 19  Ship Date       51290 non-null  object \n",
      " 20  Ship Mode       51290 non-null  object \n",
      " 21  Shipping Cost   51290 non-null  float64\n",
      " 22  State           51290 non-null  object \n",
      " 23  Sub-Category    51290 non-null  object \n",
      " 24  Year            51290 non-null  int64  \n",
      " 25  Market2         51290 non-null  object \n",
      " 26  weeknum         51290 non-null  int64  \n",
      "dtypes: float64(3), int64(6), object(18)\n",
      "memory usage: 10.6+ MB\n"
     ]
    }
   ],
   "source": [
    "ventas.info()"
   ]
  },
  {
   "cell_type": "code",
   "execution_count": 97,
   "metadata": {},
   "outputs": [
    {
     "data": {
      "text/plain": [
       "Index(['Category', 'City', 'Country', 'Customer ID', 'Customer Name',\n",
       "       'Discount', 'Market', '记录数', 'Order Date', 'Order ID', 'Order Priority',\n",
       "       'Product ID', 'Product Name', 'Profit', 'Quantity', 'Region', 'Row ID',\n",
       "       'Sales', 'Segment', 'Ship Date', 'Ship Mode', 'Shipping Cost', 'State',\n",
       "       'Sub-Category', 'Year', 'Market2', 'weeknum'],\n",
       "      dtype='object')"
      ]
     },
     "execution_count": 97,
     "metadata": {},
     "output_type": "execute_result"
    }
   ],
   "source": [
    "ventas.columns"
   ]
  },
  {
   "cell_type": "code",
   "execution_count": 98,
   "metadata": {},
   "outputs": [],
   "source": [
    "ventas.drop(columns = '记录数', inplace = True)"
   ]
  },
  {
   "cell_type": "code",
   "execution_count": 99,
   "metadata": {},
   "outputs": [],
   "source": [
    "ventas.columns = [x.lower() for x in ventas.columns]"
   ]
  },
  {
   "cell_type": "code",
   "execution_count": 100,
   "metadata": {},
   "outputs": [],
   "source": [
    "ventas.columns = [x.replace(' ','_') for x in ventas.columns]"
   ]
  },
  {
   "cell_type": "code",
   "execution_count": 101,
   "metadata": {},
   "outputs": [],
   "source": [
    "ventas.rename(columns={'sub-category': 'sub_category'}, inplace=True)"
   ]
  },
  {
   "cell_type": "code",
   "execution_count": 102,
   "metadata": {},
   "outputs": [
    {
     "data": {
      "text/html": [
       "<div>\n",
       "<style scoped>\n",
       "    .dataframe tbody tr th:only-of-type {\n",
       "        vertical-align: middle;\n",
       "    }\n",
       "\n",
       "    .dataframe tbody tr th {\n",
       "        vertical-align: top;\n",
       "    }\n",
       "\n",
       "    .dataframe thead th {\n",
       "        text-align: right;\n",
       "    }\n",
       "</style>\n",
       "<table border=\"1\" class=\"dataframe\">\n",
       "  <thead>\n",
       "    <tr style=\"text-align: right;\">\n",
       "      <th></th>\n",
       "      <th>category</th>\n",
       "      <th>city</th>\n",
       "      <th>country</th>\n",
       "      <th>customer_id</th>\n",
       "      <th>customer_name</th>\n",
       "      <th>discount</th>\n",
       "      <th>market</th>\n",
       "      <th>order_date</th>\n",
       "      <th>order_id</th>\n",
       "      <th>order_priority</th>\n",
       "      <th>...</th>\n",
       "      <th>sales</th>\n",
       "      <th>segment</th>\n",
       "      <th>ship_date</th>\n",
       "      <th>ship_mode</th>\n",
       "      <th>shipping_cost</th>\n",
       "      <th>state</th>\n",
       "      <th>sub_category</th>\n",
       "      <th>year</th>\n",
       "      <th>market2</th>\n",
       "      <th>weeknum</th>\n",
       "    </tr>\n",
       "  </thead>\n",
       "  <tbody>\n",
       "    <tr>\n",
       "      <th>0</th>\n",
       "      <td>Office Supplies</td>\n",
       "      <td>Los Angeles</td>\n",
       "      <td>United States</td>\n",
       "      <td>LS-172304</td>\n",
       "      <td>Lycoris Saunders</td>\n",
       "      <td>0.0</td>\n",
       "      <td>US</td>\n",
       "      <td>2011-01-07 00:00:00.000</td>\n",
       "      <td>CA-2011-130813</td>\n",
       "      <td>High</td>\n",
       "      <td>...</td>\n",
       "      <td>19</td>\n",
       "      <td>Consumer</td>\n",
       "      <td>2011-01-09 00:00:00.000</td>\n",
       "      <td>Second Class</td>\n",
       "      <td>4.37</td>\n",
       "      <td>California</td>\n",
       "      <td>Paper</td>\n",
       "      <td>2011</td>\n",
       "      <td>North America</td>\n",
       "      <td>2</td>\n",
       "    </tr>\n",
       "    <tr>\n",
       "      <th>1</th>\n",
       "      <td>Office Supplies</td>\n",
       "      <td>Los Angeles</td>\n",
       "      <td>United States</td>\n",
       "      <td>MV-174854</td>\n",
       "      <td>Mark Van Huff</td>\n",
       "      <td>0.0</td>\n",
       "      <td>US</td>\n",
       "      <td>2011-01-21 00:00:00.000</td>\n",
       "      <td>CA-2011-148614</td>\n",
       "      <td>Medium</td>\n",
       "      <td>...</td>\n",
       "      <td>19</td>\n",
       "      <td>Consumer</td>\n",
       "      <td>2011-01-26 00:00:00.000</td>\n",
       "      <td>Standard Class</td>\n",
       "      <td>0.94</td>\n",
       "      <td>California</td>\n",
       "      <td>Paper</td>\n",
       "      <td>2011</td>\n",
       "      <td>North America</td>\n",
       "      <td>4</td>\n",
       "    </tr>\n",
       "    <tr>\n",
       "      <th>2</th>\n",
       "      <td>Office Supplies</td>\n",
       "      <td>Los Angeles</td>\n",
       "      <td>United States</td>\n",
       "      <td>CS-121304</td>\n",
       "      <td>Chad Sievert</td>\n",
       "      <td>0.0</td>\n",
       "      <td>US</td>\n",
       "      <td>2011-08-05 00:00:00.000</td>\n",
       "      <td>CA-2011-118962</td>\n",
       "      <td>Medium</td>\n",
       "      <td>...</td>\n",
       "      <td>21</td>\n",
       "      <td>Consumer</td>\n",
       "      <td>2011-08-09 00:00:00.000</td>\n",
       "      <td>Standard Class</td>\n",
       "      <td>1.81</td>\n",
       "      <td>California</td>\n",
       "      <td>Paper</td>\n",
       "      <td>2011</td>\n",
       "      <td>North America</td>\n",
       "      <td>32</td>\n",
       "    </tr>\n",
       "    <tr>\n",
       "      <th>3</th>\n",
       "      <td>Office Supplies</td>\n",
       "      <td>Los Angeles</td>\n",
       "      <td>United States</td>\n",
       "      <td>CS-121304</td>\n",
       "      <td>Chad Sievert</td>\n",
       "      <td>0.0</td>\n",
       "      <td>US</td>\n",
       "      <td>2011-08-05 00:00:00.000</td>\n",
       "      <td>CA-2011-118962</td>\n",
       "      <td>Medium</td>\n",
       "      <td>...</td>\n",
       "      <td>111</td>\n",
       "      <td>Consumer</td>\n",
       "      <td>2011-08-09 00:00:00.000</td>\n",
       "      <td>Standard Class</td>\n",
       "      <td>4.59</td>\n",
       "      <td>California</td>\n",
       "      <td>Paper</td>\n",
       "      <td>2011</td>\n",
       "      <td>North America</td>\n",
       "      <td>32</td>\n",
       "    </tr>\n",
       "    <tr>\n",
       "      <th>4</th>\n",
       "      <td>Office Supplies</td>\n",
       "      <td>Los Angeles</td>\n",
       "      <td>United States</td>\n",
       "      <td>AP-109154</td>\n",
       "      <td>Arthur Prichep</td>\n",
       "      <td>0.0</td>\n",
       "      <td>US</td>\n",
       "      <td>2011-09-29 00:00:00.000</td>\n",
       "      <td>CA-2011-146969</td>\n",
       "      <td>High</td>\n",
       "      <td>...</td>\n",
       "      <td>6</td>\n",
       "      <td>Consumer</td>\n",
       "      <td>2011-10-03 00:00:00.000</td>\n",
       "      <td>Standard Class</td>\n",
       "      <td>1.32</td>\n",
       "      <td>California</td>\n",
       "      <td>Paper</td>\n",
       "      <td>2011</td>\n",
       "      <td>North America</td>\n",
       "      <td>40</td>\n",
       "    </tr>\n",
       "    <tr>\n",
       "      <th>...</th>\n",
       "      <td>...</td>\n",
       "      <td>...</td>\n",
       "      <td>...</td>\n",
       "      <td>...</td>\n",
       "      <td>...</td>\n",
       "      <td>...</td>\n",
       "      <td>...</td>\n",
       "      <td>...</td>\n",
       "      <td>...</td>\n",
       "      <td>...</td>\n",
       "      <td>...</td>\n",
       "      <td>...</td>\n",
       "      <td>...</td>\n",
       "      <td>...</td>\n",
       "      <td>...</td>\n",
       "      <td>...</td>\n",
       "      <td>...</td>\n",
       "      <td>...</td>\n",
       "      <td>...</td>\n",
       "      <td>...</td>\n",
       "      <td>...</td>\n",
       "    </tr>\n",
       "    <tr>\n",
       "      <th>51285</th>\n",
       "      <td>Office Supplies</td>\n",
       "      <td>Los Angeles</td>\n",
       "      <td>United States</td>\n",
       "      <td>AM-103604</td>\n",
       "      <td>Alice McCarthy</td>\n",
       "      <td>0.2</td>\n",
       "      <td>US</td>\n",
       "      <td>2014-12-03 00:00:00.000</td>\n",
       "      <td>CA-2014-109701</td>\n",
       "      <td>High</td>\n",
       "      <td>...</td>\n",
       "      <td>69</td>\n",
       "      <td>Corporate</td>\n",
       "      <td>2014-12-04 00:00:00.000</td>\n",
       "      <td>Same Day</td>\n",
       "      <td>5.15</td>\n",
       "      <td>California</td>\n",
       "      <td>Binders</td>\n",
       "      <td>2014</td>\n",
       "      <td>North America</td>\n",
       "      <td>49</td>\n",
       "    </tr>\n",
       "    <tr>\n",
       "      <th>51286</th>\n",
       "      <td>Office Supplies</td>\n",
       "      <td>Los Angeles</td>\n",
       "      <td>United States</td>\n",
       "      <td>AM-103604</td>\n",
       "      <td>Alice McCarthy</td>\n",
       "      <td>0.2</td>\n",
       "      <td>US</td>\n",
       "      <td>2014-12-03 00:00:00.000</td>\n",
       "      <td>CA-2014-109701</td>\n",
       "      <td>High</td>\n",
       "      <td>...</td>\n",
       "      <td>9</td>\n",
       "      <td>Corporate</td>\n",
       "      <td>2014-12-04 00:00:00.000</td>\n",
       "      <td>Same Day</td>\n",
       "      <td>0.44</td>\n",
       "      <td>California</td>\n",
       "      <td>Binders</td>\n",
       "      <td>2014</td>\n",
       "      <td>North America</td>\n",
       "      <td>49</td>\n",
       "    </tr>\n",
       "    <tr>\n",
       "      <th>51287</th>\n",
       "      <td>Office Supplies</td>\n",
       "      <td>Los Angeles</td>\n",
       "      <td>United States</td>\n",
       "      <td>HR-147704</td>\n",
       "      <td>Hallie Redmond</td>\n",
       "      <td>0.2</td>\n",
       "      <td>US</td>\n",
       "      <td>2014-12-18 00:00:00.000</td>\n",
       "      <td>CA-2014-106964</td>\n",
       "      <td>Medium</td>\n",
       "      <td>...</td>\n",
       "      <td>12</td>\n",
       "      <td>Home Office</td>\n",
       "      <td>2014-12-21 00:00:00.000</td>\n",
       "      <td>First Class</td>\n",
       "      <td>0.31</td>\n",
       "      <td>California</td>\n",
       "      <td>Binders</td>\n",
       "      <td>2014</td>\n",
       "      <td>North America</td>\n",
       "      <td>51</td>\n",
       "    </tr>\n",
       "    <tr>\n",
       "      <th>51288</th>\n",
       "      <td>Office Supplies</td>\n",
       "      <td>Los Angeles</td>\n",
       "      <td>United States</td>\n",
       "      <td>RM-196754</td>\n",
       "      <td>Robert Marley</td>\n",
       "      <td>0.2</td>\n",
       "      <td>US</td>\n",
       "      <td>2014-12-25 00:00:00.000</td>\n",
       "      <td>CA-2014-145219</td>\n",
       "      <td>Critical</td>\n",
       "      <td>...</td>\n",
       "      <td>90</td>\n",
       "      <td>Home Office</td>\n",
       "      <td>2014-12-26 00:00:00.000</td>\n",
       "      <td>First Class</td>\n",
       "      <td>15.95</td>\n",
       "      <td>California</td>\n",
       "      <td>Binders</td>\n",
       "      <td>2014</td>\n",
       "      <td>North America</td>\n",
       "      <td>52</td>\n",
       "    </tr>\n",
       "    <tr>\n",
       "      <th>51289</th>\n",
       "      <td>Office Supplies</td>\n",
       "      <td>Los Angeles</td>\n",
       "      <td>United States</td>\n",
       "      <td>FH-143654</td>\n",
       "      <td>Fred Hopkins</td>\n",
       "      <td>0.2</td>\n",
       "      <td>US</td>\n",
       "      <td>2014-12-26 00:00:00.000</td>\n",
       "      <td>CA-2014-121398</td>\n",
       "      <td>Medium</td>\n",
       "      <td>...</td>\n",
       "      <td>154</td>\n",
       "      <td>Corporate</td>\n",
       "      <td>2014-12-30 00:00:00.000</td>\n",
       "      <td>Standard Class</td>\n",
       "      <td>9.59</td>\n",
       "      <td>California</td>\n",
       "      <td>Binders</td>\n",
       "      <td>2014</td>\n",
       "      <td>North America</td>\n",
       "      <td>52</td>\n",
       "    </tr>\n",
       "  </tbody>\n",
       "</table>\n",
       "<p>51290 rows × 26 columns</p>\n",
       "</div>"
      ],
      "text/plain": [
       "              category         city        country customer_id  \\\n",
       "0      Office Supplies  Los Angeles  United States   LS-172304   \n",
       "1      Office Supplies  Los Angeles  United States   MV-174854   \n",
       "2      Office Supplies  Los Angeles  United States   CS-121304   \n",
       "3      Office Supplies  Los Angeles  United States   CS-121304   \n",
       "4      Office Supplies  Los Angeles  United States   AP-109154   \n",
       "...                ...          ...            ...         ...   \n",
       "51285  Office Supplies  Los Angeles  United States   AM-103604   \n",
       "51286  Office Supplies  Los Angeles  United States   AM-103604   \n",
       "51287  Office Supplies  Los Angeles  United States   HR-147704   \n",
       "51288  Office Supplies  Los Angeles  United States   RM-196754   \n",
       "51289  Office Supplies  Los Angeles  United States   FH-143654   \n",
       "\n",
       "          customer_name  discount market               order_date  \\\n",
       "0      Lycoris Saunders       0.0     US  2011-01-07 00:00:00.000   \n",
       "1         Mark Van Huff       0.0     US  2011-01-21 00:00:00.000   \n",
       "2          Chad Sievert       0.0     US  2011-08-05 00:00:00.000   \n",
       "3          Chad Sievert       0.0     US  2011-08-05 00:00:00.000   \n",
       "4        Arthur Prichep       0.0     US  2011-09-29 00:00:00.000   \n",
       "...                 ...       ...    ...                      ...   \n",
       "51285    Alice McCarthy       0.2     US  2014-12-03 00:00:00.000   \n",
       "51286    Alice McCarthy       0.2     US  2014-12-03 00:00:00.000   \n",
       "51287    Hallie Redmond       0.2     US  2014-12-18 00:00:00.000   \n",
       "51288     Robert Marley       0.2     US  2014-12-25 00:00:00.000   \n",
       "51289      Fred Hopkins       0.2     US  2014-12-26 00:00:00.000   \n",
       "\n",
       "             order_id order_priority  ... sales      segment  \\\n",
       "0      CA-2011-130813           High  ...    19     Consumer   \n",
       "1      CA-2011-148614         Medium  ...    19     Consumer   \n",
       "2      CA-2011-118962         Medium  ...    21     Consumer   \n",
       "3      CA-2011-118962         Medium  ...   111     Consumer   \n",
       "4      CA-2011-146969           High  ...     6     Consumer   \n",
       "...               ...            ...  ...   ...          ...   \n",
       "51285  CA-2014-109701           High  ...    69    Corporate   \n",
       "51286  CA-2014-109701           High  ...     9    Corporate   \n",
       "51287  CA-2014-106964         Medium  ...    12  Home Office   \n",
       "51288  CA-2014-145219       Critical  ...    90  Home Office   \n",
       "51289  CA-2014-121398         Medium  ...   154    Corporate   \n",
       "\n",
       "                     ship_date       ship_mode shipping_cost       state  \\\n",
       "0      2011-01-09 00:00:00.000    Second Class          4.37  California   \n",
       "1      2011-01-26 00:00:00.000  Standard Class          0.94  California   \n",
       "2      2011-08-09 00:00:00.000  Standard Class          1.81  California   \n",
       "3      2011-08-09 00:00:00.000  Standard Class          4.59  California   \n",
       "4      2011-10-03 00:00:00.000  Standard Class          1.32  California   \n",
       "...                        ...             ...           ...         ...   \n",
       "51285  2014-12-04 00:00:00.000        Same Day          5.15  California   \n",
       "51286  2014-12-04 00:00:00.000        Same Day          0.44  California   \n",
       "51287  2014-12-21 00:00:00.000     First Class          0.31  California   \n",
       "51288  2014-12-26 00:00:00.000     First Class         15.95  California   \n",
       "51289  2014-12-30 00:00:00.000  Standard Class          9.59  California   \n",
       "\n",
       "       sub_category  year        market2 weeknum  \n",
       "0             Paper  2011  North America       2  \n",
       "1             Paper  2011  North America       4  \n",
       "2             Paper  2011  North America      32  \n",
       "3             Paper  2011  North America      32  \n",
       "4             Paper  2011  North America      40  \n",
       "...             ...   ...            ...     ...  \n",
       "51285       Binders  2014  North America      49  \n",
       "51286       Binders  2014  North America      49  \n",
       "51287       Binders  2014  North America      51  \n",
       "51288       Binders  2014  North America      52  \n",
       "51289       Binders  2014  North America      52  \n",
       "\n",
       "[51290 rows x 26 columns]"
      ]
     },
     "execution_count": 102,
     "metadata": {},
     "output_type": "execute_result"
    }
   ],
   "source": [
    "ventas"
   ]
  },
  {
   "cell_type": "code",
   "execution_count": 103,
   "metadata": {},
   "outputs": [
    {
     "data": {
      "text/plain": [
       "Index(['category', 'city', 'country', 'customer_id', 'customer_name',\n",
       "       'discount', 'market', 'order_date', 'order_id', 'order_priority',\n",
       "       'product_id', 'product_name', 'profit', 'quantity', 'region', 'row_id',\n",
       "       'sales', 'segment', 'ship_date', 'ship_mode', 'shipping_cost', 'state',\n",
       "       'sub_category', 'year', 'market2', 'weeknum'],\n",
       "      dtype='object')"
      ]
     },
     "execution_count": 103,
     "metadata": {},
     "output_type": "execute_result"
    }
   ],
   "source": [
    "ventas.columns"
   ]
  },
  {
   "cell_type": "code",
   "execution_count": 104,
   "metadata": {},
   "outputs": [
    {
     "data": {
      "text/plain": [
       "<Axes: xlabel='quantity'>"
      ]
     },
     "execution_count": 104,
     "metadata": {},
     "output_type": "execute_result"
    },
    {
     "data": {
      "image/png": "[encoded data removed]",
      "text/plain": [
       "<Figure size 2000x400 with 1 Axes>"
      ]
     },
     "metadata": {},
     "output_type": "display_data"
    }
   ],
   "source": [
    "#Identificamos outliers\n",
    "plt.figure(figsize=(20,4))\n",
    "sns.boxplot(ventas[ventas['year'] == 2014]['quantity'], orient='h')"
   ]
  },
  {
   "cell_type": "code",
   "execution_count": 105,
   "metadata": {},
   "outputs": [
    {
     "data": {
      "text/plain": [
       "quantity\n",
       "1      8963\n",
       "2     12748\n",
       "3      9682\n",
       "4      6385\n",
       "5      4882\n",
       "6      3020\n",
       "7      2385\n",
       "8      1361\n",
       "9       987\n",
       "10      276\n",
       "11      156\n",
       "12      176\n",
       "13       83\n",
       "14      186\n",
       "Name: product_name, dtype: int64"
      ]
     },
     "execution_count": 105,
     "metadata": {},
     "output_type": "execute_result"
    }
   ],
   "source": [
    "ventas.groupby(['quantity'])['product_name'].count()"
   ]
  },
  {
   "cell_type": "code",
   "execution_count": 106,
   "metadata": {},
   "outputs": [
    {
     "data": {
      "text/plain": [
       "<Axes: xlabel='sales'>"
      ]
     },
     "execution_count": 106,
     "metadata": {},
     "output_type": "execute_result"
    },
    {
     "data": {
      "image/png": "[encoded data removed]",
      "text/plain": [
       "<Figure size 3000x400 with 1 Axes>"
      ]
     },
     "metadata": {},
     "output_type": "display_data"
    }
   ],
   "source": [
    "plt.figure(figsize=(30,4))\n",
    "sns.boxplot(ventas[ventas['year'] == 2014]['sales'], orient='h')"
   ]
  },
  {
   "cell_type": "code",
   "execution_count": 107,
   "metadata": {},
   "outputs": [
    {
     "data": {
      "text/plain": [
       "<Axes: xlabel='sales'>"
      ]
     },
     "execution_count": 107,
     "metadata": {},
     "output_type": "execute_result"
    },
    {
     "data": {
      "image/png": "[encoded data removed]",
      "text/plain": [
       "<Figure size 3000x400 with 1 Axes>"
      ]
     },
     "metadata": {},
     "output_type": "display_data"
    }
   ],
   "source": [
    "plt.figure(figsize=(30,4))\n",
    "sns.boxplot(ventas[ventas['year'] == 2013]['sales'], orient='h')"
   ]
  },
  {
   "cell_type": "code",
   "execution_count": 108,
   "metadata": {},
   "outputs": [
    {
     "data": {
      "text/plain": [
       "<Axes: xlabel='sales'>"
      ]
     },
     "execution_count": 108,
     "metadata": {},
     "output_type": "execute_result"
    },
    {
     "data": {
      "image/png": "[encoded data removed]",
      "text/plain": [
       "<Figure size 3000x400 with 1 Axes>"
      ]
     },
     "metadata": {},
     "output_type": "display_data"
    }
   ],
   "source": [
    "plt.figure(figsize=(30,4))\n",
    "sns.boxplot(ventas[ventas['year'] == 2012]['sales'], orient='h')"
   ]
  },
  {
   "cell_type": "code",
   "execution_count": 109,
   "metadata": {},
   "outputs": [
    {
     "data": {
      "text/plain": [
       "<Axes: xlabel='sales'>"
      ]
     },
     "execution_count": 109,
     "metadata": {},
     "output_type": "execute_result"
    },
    {
     "data": {
      "image/png": "[encoded data removed]",
      "text/plain": [
       "<Figure size 3000x400 with 1 Axes>"
      ]
     },
     "metadata": {},
     "output_type": "display_data"
    }
   ],
   "source": [
    "plt.figure(figsize=(30,4))\n",
    "sns.boxplot(ventas[ventas['year'] == 2011]['sales'], orient='h')"
   ]
  },
  {
   "cell_type": "code",
   "execution_count": 110,
   "metadata": {},
   "outputs": [
    {
     "data": {
      "text/plain": [
       "<Axes: xlabel='profit'>"
      ]
     },
     "execution_count": 110,
     "metadata": {},
     "output_type": "execute_result"
    },
    {
     "data": {
      "image/png": "[encoded data removed]",
      "text/plain": [
       "<Figure size 3000x400 with 1 Axes>"
      ]
     },
     "metadata": {},
     "output_type": "display_data"
    }
   ],
   "source": [
    "plt.figure(figsize=(30,4))\n",
    "sns.boxplot(ventas[ventas['year'] == 2014]['profit'], orient='h')"
   ]
  },
  {
   "cell_type": "code",
   "execution_count": 111,
   "metadata": {},
   "outputs": [],
   "source": [
    "vta_year = ventas.groupby('year', as_index = False)[['sales','profit']].sum()"
   ]
  },
  {
   "cell_type": "code",
   "execution_count": 112,
   "metadata": {},
   "outputs": [
    {
     "data": {
      "text/html": [
       "<div>\n",
       "<style scoped>\n",
       "    .dataframe tbody tr th:only-of-type {\n",
       "        vertical-align: middle;\n",
       "    }\n",
       "\n",
       "    .dataframe tbody tr th {\n",
       "        vertical-align: top;\n",
       "    }\n",
       "\n",
       "    .dataframe thead th {\n",
       "        text-align: right;\n",
       "    }\n",
       "</style>\n",
       "<table border=\"1\" class=\"dataframe\">\n",
       "  <thead>\n",
       "    <tr style=\"text-align: right;\">\n",
       "      <th></th>\n",
       "      <th>year</th>\n",
       "      <th>sales</th>\n",
       "      <th>profit</th>\n",
       "    </tr>\n",
       "  </thead>\n",
       "  <tbody>\n",
       "    <tr>\n",
       "      <th>0</th>\n",
       "      <td>2011</td>\n",
       "      <td>2259511</td>\n",
       "      <td>248940.81154</td>\n",
       "    </tr>\n",
       "    <tr>\n",
       "      <th>1</th>\n",
       "      <td>2012</td>\n",
       "      <td>2677493</td>\n",
       "      <td>307415.27910</td>\n",
       "    </tr>\n",
       "    <tr>\n",
       "      <th>2</th>\n",
       "      <td>2013</td>\n",
       "      <td>3405860</td>\n",
       "      <td>406935.23018</td>\n",
       "    </tr>\n",
       "    <tr>\n",
       "      <th>3</th>\n",
       "      <td>2014</td>\n",
       "      <td>4300041</td>\n",
       "      <td>504165.97046</td>\n",
       "    </tr>\n",
       "  </tbody>\n",
       "</table>\n",
       "</div>"
      ],
      "text/plain": [
       "   year    sales        profit\n",
       "0  2011  2259511  248940.81154\n",
       "1  2012  2677493  307415.27910\n",
       "2  2013  3405860  406935.23018\n",
       "3  2014  4300041  504165.97046"
      ]
     },
     "execution_count": 112,
     "metadata": {},
     "output_type": "execute_result"
    }
   ],
   "source": [
    "vta_year"
   ]
  },
  {
   "cell_type": "code",
   "execution_count": 113,
   "metadata": {},
   "outputs": [
    {
     "data": {
      "text/html": [
       "<div>\n",
       "<style scoped>\n",
       "    .dataframe tbody tr th:only-of-type {\n",
       "        vertical-align: middle;\n",
       "    }\n",
       "\n",
       "    .dataframe tbody tr th {\n",
       "        vertical-align: top;\n",
       "    }\n",
       "\n",
       "    .dataframe thead th {\n",
       "        text-align: right;\n",
       "    }\n",
       "</style>\n",
       "<table border=\"1\" class=\"dataframe\">\n",
       "  <thead>\n",
       "    <tr style=\"text-align: right;\">\n",
       "      <th></th>\n",
       "      <th>year</th>\n",
       "      <th>order_id</th>\n",
       "    </tr>\n",
       "  </thead>\n",
       "  <tbody>\n",
       "    <tr>\n",
       "      <th>0</th>\n",
       "      <td>2011</td>\n",
       "      <td>8998</td>\n",
       "    </tr>\n",
       "    <tr>\n",
       "      <th>1</th>\n",
       "      <td>2012</td>\n",
       "      <td>10962</td>\n",
       "    </tr>\n",
       "    <tr>\n",
       "      <th>2</th>\n",
       "      <td>2013</td>\n",
       "      <td>13799</td>\n",
       "    </tr>\n",
       "    <tr>\n",
       "      <th>3</th>\n",
       "      <td>2014</td>\n",
       "      <td>17531</td>\n",
       "    </tr>\n",
       "  </tbody>\n",
       "</table>\n",
       "</div>"
      ],
      "text/plain": [
       "   year  order_id\n",
       "0  2011      8998\n",
       "1  2012     10962\n",
       "2  2013     13799\n",
       "3  2014     17531"
      ]
     },
     "execution_count": 113,
     "metadata": {},
     "output_type": "execute_result"
    }
   ],
   "source": [
    "#numero de pedidos\n",
    "n_pedidos = ventas.groupby(['year'], as_index = False)['order_id'].count()\n",
    "n_pedidos"
   ]
  },
  {
   "cell_type": "code",
   "execution_count": 114,
   "metadata": {},
   "outputs": [
    {
     "data": {
      "text/html": [
       "<div>\n",
       "<style scoped>\n",
       "    .dataframe tbody tr th:only-of-type {\n",
       "        vertical-align: middle;\n",
       "    }\n",
       "\n",
       "    .dataframe tbody tr th {\n",
       "        vertical-align: top;\n",
       "    }\n",
       "\n",
       "    .dataframe thead th {\n",
       "        text-align: right;\n",
       "    }\n",
       "</style>\n",
       "<table border=\"1\" class=\"dataframe\">\n",
       "  <thead>\n",
       "    <tr style=\"text-align: right;\">\n",
       "      <th></th>\n",
       "      <th>year</th>\n",
       "      <th>quantity</th>\n",
       "    </tr>\n",
       "  </thead>\n",
       "  <tbody>\n",
       "    <tr>\n",
       "      <th>0</th>\n",
       "      <td>2011</td>\n",
       "      <td>31443</td>\n",
       "    </tr>\n",
       "    <tr>\n",
       "      <th>1</th>\n",
       "      <td>2012</td>\n",
       "      <td>38111</td>\n",
       "    </tr>\n",
       "    <tr>\n",
       "      <th>2</th>\n",
       "      <td>2013</td>\n",
       "      <td>48136</td>\n",
       "    </tr>\n",
       "    <tr>\n",
       "      <th>3</th>\n",
       "      <td>2014</td>\n",
       "      <td>60622</td>\n",
       "    </tr>\n",
       "  </tbody>\n",
       "</table>\n",
       "</div>"
      ],
      "text/plain": [
       "   year  quantity\n",
       "0  2011     31443\n",
       "1  2012     38111\n",
       "2  2013     48136\n",
       "3  2014     60622"
      ]
     },
     "execution_count": 114,
     "metadata": {},
     "output_type": "execute_result"
    }
   ],
   "source": [
    "#numero de unidades\n",
    "n_uds = ventas.groupby(['year'], as_index = False)['quantity'].sum()\n",
    "n_uds"
   ]
  },
  {
   "cell_type": "code",
   "execution_count": 195,
   "metadata": {},
   "outputs": [
    {
     "data": {
      "text/html": [
       "<div>\n",
       "<style scoped>\n",
       "    .dataframe tbody tr th:only-of-type {\n",
       "        vertical-align: middle;\n",
       "    }\n",
       "\n",
       "    .dataframe tbody tr th {\n",
       "        vertical-align: top;\n",
       "    }\n",
       "\n",
       "    .dataframe thead th {\n",
       "        text-align: right;\n",
       "    }\n",
       "</style>\n",
       "<table border=\"1\" class=\"dataframe\">\n",
       "  <thead>\n",
       "    <tr style=\"text-align: right;\">\n",
       "      <th></th>\n",
       "      <th>sales</th>\n",
       "      <th>profit</th>\n",
       "      <th>quantity</th>\n",
       "      <th>order_id</th>\n",
       "    </tr>\n",
       "    <tr>\n",
       "      <th>year</th>\n",
       "      <th></th>\n",
       "      <th></th>\n",
       "      <th></th>\n",
       "      <th></th>\n",
       "    </tr>\n",
       "  </thead>\n",
       "  <tbody>\n",
       "    <tr>\n",
       "      <th>2011</th>\n",
       "      <td>2259511</td>\n",
       "      <td>248940.81154</td>\n",
       "      <td>31443</td>\n",
       "      <td>8998</td>\n",
       "    </tr>\n",
       "    <tr>\n",
       "      <th>2012</th>\n",
       "      <td>2677493</td>\n",
       "      <td>307415.27910</td>\n",
       "      <td>38111</td>\n",
       "      <td>10962</td>\n",
       "    </tr>\n",
       "    <tr>\n",
       "      <th>2013</th>\n",
       "      <td>3405860</td>\n",
       "      <td>406935.23018</td>\n",
       "      <td>48136</td>\n",
       "      <td>13799</td>\n",
       "    </tr>\n",
       "    <tr>\n",
       "      <th>2014</th>\n",
       "      <td>4300041</td>\n",
       "      <td>504165.97046</td>\n",
       "      <td>60622</td>\n",
       "      <td>17531</td>\n",
       "    </tr>\n",
       "  </tbody>\n",
       "</table>\n",
       "</div>"
      ],
      "text/plain": [
       "        sales        profit  quantity  order_id\n",
       "year                                           \n",
       "2011  2259511  248940.81154     31443      8998\n",
       "2012  2677493  307415.27910     38111     10962\n",
       "2013  3405860  406935.23018     48136     13799\n",
       "2014  4300041  504165.97046     60622     17531"
      ]
     },
     "execution_count": 195,
     "metadata": {},
     "output_type": "execute_result"
    }
   ],
   "source": [
    "v_kpi = pd.merge(vta_year,n_uds, on = 'year', how = 'outer')\n",
    "v_kpi2 = pd.merge(v_kpi,n_pedidos, on = 'year', how = 'outer')\n",
    "v_kpi2.set_index('year',inplace = True)\n",
    "v_kpi2"
   ]
  },
  {
   "cell_type": "code",
   "execution_count": 196,
   "metadata": {},
   "outputs": [
    {
     "data": {
      "text/plain": [
       "8998"
      ]
     },
     "execution_count": 196,
     "metadata": {},
     "output_type": "execute_result"
    }
   ],
   "source": [
    "v_kpi2.loc[2011,'order_id']"
   ]
  },
  {
   "cell_type": "code",
   "execution_count": 116,
   "metadata": {},
   "outputs": [
    {
     "data": {
      "text/html": [
       "<div>\n",
       "<style scoped>\n",
       "    .dataframe tbody tr th:only-of-type {\n",
       "        vertical-align: middle;\n",
       "    }\n",
       "\n",
       "    .dataframe tbody tr th {\n",
       "        vertical-align: top;\n",
       "    }\n",
       "\n",
       "    .dataframe thead th {\n",
       "        text-align: right;\n",
       "    }\n",
       "</style>\n",
       "<table border=\"1\" class=\"dataframe\">\n",
       "  <thead>\n",
       "    <tr style=\"text-align: right;\">\n",
       "      <th></th>\n",
       "      <th>sales</th>\n",
       "      <th>profit</th>\n",
       "      <th>quantity</th>\n",
       "      <th>order_id</th>\n",
       "    </tr>\n",
       "    <tr>\n",
       "      <th>year</th>\n",
       "      <th></th>\n",
       "      <th></th>\n",
       "      <th></th>\n",
       "      <th></th>\n",
       "    </tr>\n",
       "  </thead>\n",
       "  <tbody>\n",
       "    <tr>\n",
       "      <th>2011</th>\n",
       "      <td>NaN</td>\n",
       "      <td>NaN</td>\n",
       "      <td>NaN</td>\n",
       "      <td>NaN</td>\n",
       "    </tr>\n",
       "    <tr>\n",
       "      <th>2012</th>\n",
       "      <td>0.184988</td>\n",
       "      <td>0.234893</td>\n",
       "      <td>0.212066</td>\n",
       "      <td>0.218271</td>\n",
       "    </tr>\n",
       "    <tr>\n",
       "      <th>2013</th>\n",
       "      <td>0.272033</td>\n",
       "      <td>0.323731</td>\n",
       "      <td>0.263047</td>\n",
       "      <td>0.258803</td>\n",
       "    </tr>\n",
       "    <tr>\n",
       "      <th>2014</th>\n",
       "      <td>0.262542</td>\n",
       "      <td>0.238934</td>\n",
       "      <td>0.259390</td>\n",
       "      <td>0.270454</td>\n",
       "    </tr>\n",
       "  </tbody>\n",
       "</table>\n",
       "</div>"
      ],
      "text/plain": [
       "         sales    profit  quantity  order_id\n",
       "year                                        \n",
       "2011       NaN       NaN       NaN       NaN\n",
       "2012  0.184988  0.234893  0.212066  0.218271\n",
       "2013  0.272033  0.323731  0.263047  0.258803\n",
       "2014  0.262542  0.238934  0.259390  0.270454"
      ]
     },
     "execution_count": 116,
     "metadata": {},
     "output_type": "execute_result"
    }
   ],
   "source": [
    "#calculamos los crecimientos año a año\n",
    "\n",
    "v_kpi2.pct_change()"
   ]
  },
  {
   "cell_type": "code",
   "execution_count": 117,
   "metadata": {},
   "outputs": [
    {
     "data": {
      "image/png": "[encoded data removed]",
      "text/plain": [
       "<Figure size 1500x1000 with 4 Axes>"
      ]
     },
     "metadata": {},
     "output_type": "display_data"
    }
   ],
   "source": [
    "f,ax = plt.subplots(2,2,figsize=(15,10),sharex=True)\n",
    "\n",
    "sns.barplot(v_kpi2, x = 'year', y = 'sales', hue = 'year', palette = 'Blues', ax=ax[0,0])\n",
    "sns.barplot(v_kpi2, x = 'year', y = 'profit', hue = 'year', palette = 'YlOrBr', ax=ax[0,1])\n",
    "sns.barplot(v_kpi2, x = 'year', y = 'order_id', hue = 'year', palette = 'Greens', ax=ax[1,0])\n",
    "sns.barplot(v_kpi2, x = 'year', y = 'quantity', hue = 'year', palette = 'ch:s=-.2,r=.6',ax=ax[1,1]);\n",
    "\n",
    "ax[0,0].set_title('Venta en valor')\n",
    "ax[0,1].set_title('Beneficio')\n",
    "ax[1,0].set_title('Numero de pedidos')\n",
    "ax[1,1].set_title('Unidades')\n",
    "\n",
    "\n",
    "ax[0,0].ticklabel_format(style='plain', axis='y')"
   ]
  },
  {
   "cell_type": "code",
   "execution_count": 118,
   "metadata": {},
   "outputs": [],
   "source": [
    "# vamos a comprar una empresa papelera y de material de oficina que lleva desde 2011 operando. Nos han dado unos datos y una grafica que a priori parece buena pero vamos a analizar:\n",
    "\n",
    "    # Venta\n",
    "        # Vemos a ver nuestra mejor categoria y nuestra peor categoria que se intuye que a pesar de que somos una empresa papelera, en la epoca del formato digital y el email.\n",
    "        # El pedido medio en unidades es el mismo año a año.\n",
    "        # El ticket medio por pedido se mantiene igual que el resto de años, y por ende el mix de venta (ver scatter plot por categoria y TTEST).\n",
    "    ## PODEMOS DECIR QUE EL INCREMENTO DE LA VENTA AÑO TRAS AÑO VIENE POR EL INCREMENTO EN EL NUMERO DE PEDIDOS.\n",
    "\n",
    "    # Beneficio y descuentos\n",
    "\n",
    "        # Nuestra mejor y peor categoria en beneficio.\n",
    "        # El volumen de descuentos es muy elevado año a año y nos lleva a dopar la venta y perder margen (ver correlacion venta-descuento y beneficio-descuento)  \n",
    "        # porque la categoria de 'tables' tiene un beneficio negativo. El pvp no es correcto y es necesario revisar el pricing o buscar otro proveedor.\n",
    "        # El margen y el nivel de descuentos se mantienen a lo largo de los años. \n",
    "\n",
    "\n",
    "    # Clientes\n",
    "\n",
    "        # Los clientes del segmento corporate son los que más compran, volumen de pedidos, volumen por pedido, y en beneficio, pero tambien es donde más descuento hacemos.\n",
    "        # Tengo la venta y el beneficio centralizados en unos pocos clientes, lo demas son clientes residuales (80-20) cumul = True\n",
    "        # Gano clientes nuevos todos los años. \n",
    "\n",
    "    # Envios \n",
    "\n",
    "        # He ido incurrriendo en más costes de envio porque tengo mas pedidos. \n",
    "        # Y porque tengo más pedidos paises extranjeros.\n",
    "        # Tengo un grueso de pedidos que son de prioridad critica pero que se expiden con la tarifa \"standard class\" por lo que tan critical no pueden ser y podria ahorrar costes de manipulacion."
   ]
  },
  {
   "cell_type": "code",
   "execution_count": 119,
   "metadata": {},
   "outputs": [
    {
     "data": {
      "text/plain": [
       "array(['Office Supplies', 'Technology', 'Furniture'], dtype=object)"
      ]
     },
     "execution_count": 119,
     "metadata": {},
     "output_type": "execute_result"
    }
   ],
   "source": [
    "# Somos una empresa mayormente papelera, el grueso de las ventas año a año lo hace la categoria de papel, tanto en beneficio como en volumen.\n",
    "\n",
    "ventas['category'].unique()"
   ]
  },
  {
   "cell_type": "code",
   "execution_count": 120,
   "metadata": {},
   "outputs": [
    {
     "data": {
      "text/plain": [
       "array(['Paper', 'Art', 'Storage', 'Appliances', 'Supplies', 'Envelopes',\n",
       "       'Fasteners', 'Labels', 'Binders', 'Accessories', 'Phones',\n",
       "       'Copiers', 'Machines', 'Tables', 'Bookcases', 'Chairs',\n",
       "       'Furnishings'], dtype=object)"
      ]
     },
     "execution_count": 120,
     "metadata": {},
     "output_type": "execute_result"
    }
   ],
   "source": [
    "ventas['sub_category'].unique()"
   ]
  },
  {
   "cell_type": "code",
   "execution_count": 121,
   "metadata": {},
   "outputs": [],
   "source": [
    "v_cat = ventas.groupby(['sub_category','year'],as_index = False)[['sales']].sum().sort_values(by = ['sales'], ascending = False)\n"
   ]
  },
  {
   "cell_type": "code",
   "execution_count": 122,
   "metadata": {},
   "outputs": [
    {
     "data": {
      "application/vnd.plotly.v1+json": {
       "config": {
        "plotlyServerURL": "https://plot.ly"
       },
       "data": [
        {
         "marker": {
          "color": "rgba(171,50,96,0.6)"
         },
         "name": "2011",
         "type": "bar",
         "x": [
          "Accessories",
          "Appliances",
          "Art",
          "Binders",
          "Bookcases",
          "Chairs",
          "Copiers",
          "Envelopes",
          "Fasteners",
          "Furnishings",
          "Labels",
          "Machines",
          "Paper",
          "Phones",
          "Storage",
          "Supplies",
          "Tables"
         ],
         "y": [
          113470,
          173391,
          64162,
          87013,
          259388,
          285714,
          216380,
          27988,
          13605,
          63941,
          13614,
          160550,
          42652,
          337298,
          205629,
          47588,
          147128
         ]
        },
        {
         "marker": {
          "color": "rgba(12,50,196,0.6)"
         },
         "name": "2012",
         "type": "bar",
         "x": [
          "Accessories",
          "Appliances",
          "Art",
          "Binders",
          "Bookcases",
          "Chairs",
          "Copiers",
          "Envelopes",
          "Fasteners",
          "Furnishings",
          "Labels",
          "Machines",
          "Paper",
          "Phones",
          "Storage",
          "Supplies",
          "Tables"
         ],
         "y": [
          172404,
          222944,
          82370,
          93412,
          317950,
          295066,
          327167,
          38023,
          19485,
          81810,
          15517,
          159862,
          51514,
          364034,
          228560,
          43288,
          164087
         ]
        },
        {
         "marker": {
          "color": "rgba(80,90,196,0.6)"
         },
         "name": "2013",
         "type": "bar",
         "x": [
          "Accessories",
          "Appliances",
          "Art",
          "Binders",
          "Bookcases",
          "Chairs",
          "Copiers",
          "Envelopes",
          "Fasteners",
          "Furnishings",
          "Labels",
          "Machines",
          "Paper",
          "Phones",
          "Storage",
          "Supplies",
          "Tables"
         ],
         "y": [
          209916,
          254955,
          98021,
          121086,
          376037,
          427522,
          415510,
          50813,
          21603,
          111821,
          18393,
          198373,
          70514,
          453529,
          309492,
          65916,
          202359
         ]
        },
        {
         "marker": {
          "color": "rgba(120,90,96,0.6)"
         },
         "name": "2014",
         "type": "bar",
         "x": [
          "Accessories",
          "Appliances",
          "Art",
          "Binders",
          "Bookcases",
          "Chairs",
          "Copiers",
          "Envelopes",
          "Fasteners",
          "Furnishings",
          "Labels",
          "Machines",
          "Paper",
          "Phones",
          "Storage",
          "Supplies",
          "Tables"
         ],
         "y": [
          253517,
          359791,
          127610,
          160441,
          513184,
          493380,
          550382,
          54102,
          28561,
          128037,
          25909,
          260286,
          79627,
          552013,
          383443,
          86298,
          243460
         ]
        }
       ],
       "layout": {
        "barmode": "group",
        "template": {
         "data": {
          "bar": [
           {
            "error_x": {
             "color": "#2a3f5f"
            },
            "error_y": {
             "color": "#2a3f5f"
            },
            "marker": {
             "line": {
              "color": "#E5ECF6",
              "width": 0.5
             },
             "pattern": {
              "fillmode": "overlay",
              "size": 10,
              "solidity": 0.2
             }
            },
            "type": "bar"
           }
          ],
          "barpolar": [
           {
            "marker": {
             "line": {
              "color": "#E5ECF6",
              "width": 0.5
             },
             "pattern": {
              "fillmode": "overlay",
              "size": 10,
              "solidity": 0.2
             }
            },
            "type": "barpolar"
           }
          ],
          "carpet": [
           {
            "aaxis": {
             "endlinecolor": "#2a3f5f",
             "gridcolor": "white",
             "linecolor": "white",
             "minorgridcolor": "white",
             "startlinecolor": "#2a3f5f"
            },
            "baxis": {
             "endlinecolor": "#2a3f5f",
             "gridcolor": "white",
             "linecolor": "white",
             "minorgridcolor": "white",
             "startlinecolor": "#2a3f5f"
            },
            "type": "carpet"
           }
          ],
          "choropleth": [
           {
            "colorbar": {
             "outlinewidth": 0,
             "ticks": ""
            },
            "type": "choropleth"
           }
          ],
          "contour": [
           {
            "colorbar": {
             "outlinewidth": 0,
             "ticks": ""
            },
            "colorscale": [
             [
              0,
              "#0d0887"
             ],
             [
              0.1111111111111111,
              "#46039f"
             ],
             [
              0.2222222222222222,
              "#7201a8"
             ],
             [
              0.3333333333333333,
              "#9c179e"
             ],
             [
              0.4444444444444444,
              "#bd3786"
             ],
             [
              0.5555555555555556,
              "#d8576b"
             ],
             [
              0.6666666666666666,
              "#ed7953"
             ],
             [
              0.7777777777777778,
              "#fb9f3a"
             ],
             [
              0.8888888888888888,
              "#fdca26"
             ],
             [
              1,
              "#f0f921"
             ]
            ],
            "type": "contour"
           }
          ],
          "contourcarpet": [
           {
            "colorbar": {
             "outlinewidth": 0,
             "ticks": ""
            },
            "type": "contourcarpet"
           }
          ],
          "heatmap": [
           {
            "colorbar": {
             "outlinewidth": 0,
             "ticks": ""
            },
            "colorscale": [
             [
              0,
              "#0d0887"
             ],
             [
              0.1111111111111111,
              "#46039f"
             ],
             [
              0.2222222222222222,
              "#7201a8"
             ],
             [
              0.3333333333333333,
              "#9c179e"
             ],
             [
              0.4444444444444444,
              "#bd3786"
             ],
             [
              0.5555555555555556,
              "#d8576b"
             ],
             [
              0.6666666666666666,
              "#ed7953"
             ],
             [
              0.7777777777777778,
              "#fb9f3a"
             ],
             [
              0.8888888888888888,
              "#fdca26"
             ],
             [
              1,
              "#f0f921"
             ]
            ],
            "type": "heatmap"
           }
          ],
          "heatmapgl": [
           {
            "colorbar": {
             "outlinewidth": 0,
             "ticks": ""
            },
            "colorscale": [
             [
              0,
              "#0d0887"
             ],
             [
              0.1111111111111111,
              "#46039f"
             ],
             [
              0.2222222222222222,
              "#7201a8"
             ],
             [
              0.3333333333333333,
              "#9c179e"
             ],
             [
              0.4444444444444444,
              "#bd3786"
             ],
             [
              0.5555555555555556,
              "#d8576b"
             ],
             [
              0.6666666666666666,
              "#ed7953"
             ],
             [
              0.7777777777777778,
              "#fb9f3a"
             ],
             [
              0.8888888888888888,
              "#fdca26"
             ],
             [
              1,
              "#f0f921"
             ]
            ],
            "type": "heatmapgl"
           }
          ],
          "histogram": [
           {
            "marker": {
             "pattern": {
              "fillmode": "overlay",
              "size": 10,
              "solidity": 0.2
             }
            },
            "type": "histogram"
           }
          ],
          "histogram2d": [
           {
            "colorbar": {
             "outlinewidth": 0,
             "ticks": ""
            },
            "colorscale": [
             [
              0,
              "#0d0887"
             ],
             [
              0.1111111111111111,
              "#46039f"
             ],
             [
              0.2222222222222222,
              "#7201a8"
             ],
             [
              0.3333333333333333,
              "#9c179e"
             ],
             [
              0.4444444444444444,
              "#bd3786"
             ],
             [
              0.5555555555555556,
              "#d8576b"
             ],
             [
              0.6666666666666666,
              "#ed7953"
             ],
             [
              0.7777777777777778,
              "#fb9f3a"
             ],
             [
              0.8888888888888888,
              "#fdca26"
             ],
             [
              1,
              "#f0f921"
             ]
            ],
            "type": "histogram2d"
           }
          ],
          "histogram2dcontour": [
           {
            "colorbar": {
             "outlinewidth": 0,
             "ticks": ""
            },
            "colorscale": [
             [
              0,
              "#0d0887"
             ],
             [
              0.1111111111111111,
              "#46039f"
             ],
             [
              0.2222222222222222,
              "#7201a8"
             ],
             [
              0.3333333333333333,
              "#9c179e"
             ],
             [
              0.4444444444444444,
              "#bd3786"
             ],
             [
              0.5555555555555556,
              "#d8576b"
             ],
             [
              0.6666666666666666,
              "#ed7953"
             ],
             [
              0.7777777777777778,
              "#fb9f3a"
             ],
             [
              0.8888888888888888,
              "#fdca26"
             ],
             [
              1,
              "#f0f921"
             ]
            ],
            "type": "histogram2dcontour"
           }
          ],
          "mesh3d": [
           {
            "colorbar": {
             "outlinewidth": 0,
             "ticks": ""
            },
            "type": "mesh3d"
           }
          ],
          "parcoords": [
           {
            "line": {
             "colorbar": {
              "outlinewidth": 0,
              "ticks": ""
             }
            },
            "type": "parcoords"
           }
          ],
          "pie": [
           {
            "automargin": true,
            "type": "pie"
           }
          ],
          "scatter": [
           {
            "fillpattern": {
             "fillmode": "overlay",
             "size": 10,
             "solidity": 0.2
            },
            "type": "scatter"
           }
          ],
          "scatter3d": [
           {
            "line": {
             "colorbar": {
              "outlinewidth": 0,
              "ticks": ""
             }
            },
            "marker": {
             "colorbar": {
              "outlinewidth": 0,
              "ticks": ""
             }
            },
            "type": "scatter3d"
           }
          ],
          "scattercarpet": [
           {
            "marker": {
             "colorbar": {
              "outlinewidth": 0,
              "ticks": ""
             }
            },
            "type": "scattercarpet"
           }
          ],
          "scattergeo": [
           {
            "marker": {
             "colorbar": {
              "outlinewidth": 0,
              "ticks": ""
             }
            },
            "type": "scattergeo"
           }
          ],
          "scattergl": [
           {
            "marker": {
             "colorbar": {
              "outlinewidth": 0,
              "ticks": ""
             }
            },
            "type": "scattergl"
           }
          ],
          "scattermapbox": [
           {
            "marker": {
             "colorbar": {
              "outlinewidth": 0,
              "ticks": ""
             }
            },
            "type": "scattermapbox"
           }
          ],
          "scatterpolar": [
           {
            "marker": {
             "colorbar": {
              "outlinewidth": 0,
              "ticks": ""
             }
            },
            "type": "scatterpolar"
           }
          ],
          "scatterpolargl": [
           {
            "marker": {
             "colorbar": {
              "outlinewidth": 0,
              "ticks": ""
             }
            },
            "type": "scatterpolargl"
           }
          ],
          "scatterternary": [
           {
            "marker": {
             "colorbar": {
              "outlinewidth": 0,
              "ticks": ""
             }
            },
            "type": "scatterternary"
           }
          ],
          "surface": [
           {
            "colorbar": {
             "outlinewidth": 0,
             "ticks": ""
            },
            "colorscale": [
             [
              0,
              "#0d0887"
             ],
             [
              0.1111111111111111,
              "#46039f"
             ],
             [
              0.2222222222222222,
              "#7201a8"
             ],
             [
              0.3333333333333333,
              "#9c179e"
             ],
             [
              0.4444444444444444,
              "#bd3786"
             ],
             [
              0.5555555555555556,
              "#d8576b"
             ],
             [
              0.6666666666666666,
              "#ed7953"
             ],
             [
              0.7777777777777778,
              "#fb9f3a"
             ],
             [
              0.8888888888888888,
              "#fdca26"
             ],
             [
              1,
              "#f0f921"
             ]
            ],
            "type": "surface"
           }
          ],
          "table": [
           {
            "cells": {
             "fill": {
              "color": "#EBF0F8"
             },
             "line": {
              "color": "white"
             }
            },
            "header": {
             "fill": {
              "color": "#C8D4E3"
             },
             "line": {
              "color": "white"
             }
            },
            "type": "table"
           }
          ]
         },
         "layout": {
          "annotationdefaults": {
           "arrowcolor": "#2a3f5f",
           "arrowhead": 0,
           "arrowwidth": 1
          },
          "autotypenumbers": "strict",
          "coloraxis": {
           "colorbar": {
            "outlinewidth": 0,
            "ticks": ""
           }
          },
          "colorscale": {
           "diverging": [
            [
             0,
             "#8e0152"
            ],
            [
             0.1,
             "#c51b7d"
            ],
            [
             0.2,
             "#de77ae"
            ],
            [
             0.3,
             "#f1b6da"
            ],
            [
             0.4,
             "#fde0ef"
            ],
            [
             0.5,
             "#f7f7f7"
            ],
            [
             0.6,
             "#e6f5d0"
            ],
            [
             0.7,
             "#b8e186"
            ],
            [
             0.8,
             "#7fbc41"
            ],
            [
             0.9,
             "#4d9221"
            ],
            [
             1,
             "#276419"
            ]
           ],
           "sequential": [
            [
             0,
             "#0d0887"
            ],
            [
             0.1111111111111111,
             "#46039f"
            ],
            [
             0.2222222222222222,
             "#7201a8"
            ],
            [
             0.3333333333333333,
             "#9c179e"
            ],
            [
             0.4444444444444444,
             "#bd3786"
            ],
            [
             0.5555555555555556,
             "#d8576b"
            ],
            [
             0.6666666666666666,
             "#ed7953"
            ],
            [
             0.7777777777777778,
             "#fb9f3a"
            ],
            [
             0.8888888888888888,
             "#fdca26"
            ],
            [
             1,
             "#f0f921"
            ]
           ],
           "sequentialminus": [
            [
             0,
             "#0d0887"
            ],
            [
             0.1111111111111111,
             "#46039f"
            ],
            [
             0.2222222222222222,
             "#7201a8"
            ],
            [
             0.3333333333333333,
             "#9c179e"
            ],
            [
             0.4444444444444444,
             "#bd3786"
            ],
            [
             0.5555555555555556,
             "#d8576b"
            ],
            [
             0.6666666666666666,
             "#ed7953"
            ],
            [
             0.7777777777777778,
             "#fb9f3a"
            ],
            [
             0.8888888888888888,
             "#fdca26"
            ],
            [
             1,
             "#f0f921"
            ]
           ]
          },
          "colorway": [
           "#636efa",
           "#EF553B",
           "#00cc96",
           "#ab63fa",
           "#FFA15A",
           "#19d3f3",
           "#FF6692",
           "#B6E880",
           "#FF97FF",
           "#FECB52"
          ],
          "font": {
           "color": "#2a3f5f"
          },
          "geo": {
           "bgcolor": "white",
           "lakecolor": "white",
           "landcolor": "#E5ECF6",
           "showlakes": true,
           "showland": true,
           "subunitcolor": "white"
          },
          "hoverlabel": {
           "align": "left"
          },
          "hovermode": "closest",
          "mapbox": {
           "style": "light"
          },
          "paper_bgcolor": "white",
          "plot_bgcolor": "#E5ECF6",
          "polar": {
           "angularaxis": {
            "gridcolor": "white",
            "linecolor": "white",
            "ticks": ""
           },
           "bgcolor": "#E5ECF6",
           "radialaxis": {
            "gridcolor": "white",
            "linecolor": "white",
            "ticks": ""
           }
          },
          "scene": {
           "xaxis": {
            "backgroundcolor": "#E5ECF6",
            "gridcolor": "white",
            "gridwidth": 2,
            "linecolor": "white",
            "showbackground": true,
            "ticks": "",
            "zerolinecolor": "white"
           },
           "yaxis": {
            "backgroundcolor": "#E5ECF6",
            "gridcolor": "white",
            "gridwidth": 2,
            "linecolor": "white",
            "showbackground": true,
            "ticks": "",
            "zerolinecolor": "white"
           },
           "zaxis": {
            "backgroundcolor": "#E5ECF6",
            "gridcolor": "white",
            "gridwidth": 2,
            "linecolor": "white",
            "showbackground": true,
            "ticks": "",
            "zerolinecolor": "white"
           }
          },
          "shapedefaults": {
           "line": {
            "color": "#2a3f5f"
           }
          },
          "ternary": {
           "aaxis": {
            "gridcolor": "white",
            "linecolor": "white",
            "ticks": ""
           },
           "baxis": {
            "gridcolor": "white",
            "linecolor": "white",
            "ticks": ""
           },
           "bgcolor": "#E5ECF6",
           "caxis": {
            "gridcolor": "white",
            "linecolor": "white",
            "ticks": ""
           }
          },
          "title": {
           "x": 0.05
          },
          "xaxis": {
           "automargin": true,
           "gridcolor": "white",
           "linecolor": "white",
           "ticks": "",
           "title": {
            "standoff": 15
           },
           "zerolinecolor": "white",
           "zerolinewidth": 2
          },
          "yaxis": {
           "automargin": true,
           "gridcolor": "white",
           "linecolor": "white",
           "ticks": "",
           "title": {
            "standoff": 15
           },
           "zerolinecolor": "white",
           "zerolinewidth": 2
          }
         }
        },
        "title": {
         "text": "Ventas por categoría 2011-2014"
        },
        "xaxis": {
         "title": {
          "text": "Categoría"
         }
        },
        "yaxis": {
         "title": {
          "text": "Ventas"
         }
        }
       }
      }
     },
     "metadata": {},
     "output_type": "display_data"
    }
   ],
   "source": [
    "v2 = v_cat.groupby(['sub_category', 'year'])['sales'].sum().reset_index()\n",
    "\n",
    "x2011 = v2[v2['year'] == 2011]\n",
    "x2012 = v2[v2['year'] == 2012]\n",
    "x2013 = v2[v2['year'] == 2013]\n",
    "x2014 = v2[v2['year'] == 2014]\n",
    "\n",
    "trace1 = go.Bar(x=x2011['sub_category'], y=x2011['sales'],\n",
    "                name='2011', marker=dict(color='rgba(171,50,96,0.6)'))\n",
    "\n",
    "trace2 = go.Bar(x=x2012['sub_category'], y=x2012['sales'],\n",
    "                name='2012', marker=dict(color='rgba(12,50,196,0.6)'))\n",
    "\n",
    "trace3 = go.Bar(x=x2013['sub_category'], y=x2013['sales'],\n",
    "                name='2013', marker=dict(color='rgba(80,90,196,0.6)'))\n",
    "\n",
    "trace4 = go.Bar(x=x2014['sub_category'], y=x2014['sales'],\n",
    "                name='2014', marker=dict(color='rgba(120,90,96,0.6)'))\n",
    "\n",
    "\n",
    "data = [trace1, trace2, trace3, trace4]\n",
    "\n",
    "\n",
    "layout = go.Layout(barmode='group', \n",
    "                   title='Ventas por categoría 2011-2014',\n",
    "                   xaxis=dict(title='Categoría'),\n",
    "                   yaxis=dict(title='Ventas'))\n",
    "\n",
    "fig = go.Figure(data=data, layout=layout)\n",
    "fig.show()"
   ]
  },
  {
   "cell_type": "code",
   "execution_count": 123,
   "metadata": {},
   "outputs": [
    {
     "data": {
      "text/plain": [
       "TtestResult(statistic=1.1689462517515474, pvalue=0.24245381266259206, df=9768.0)"
      ]
     },
     "execution_count": 123,
     "metadata": {},
     "output_type": "execute_result"
    }
   ],
   "source": [
    "#El ticket medio por pedido se mantiene igual que el resto de años, y por ende el mix de venta\n",
    "\n",
    "t_11= ventas[(ventas['year'] == 2011) & (ventas['sales'] < 5000)].groupby('order_id')['sales'].sum()\n",
    "t_12= ventas[(ventas['year'] == 2012) & (ventas['sales'] < 3150)].groupby('order_id')['sales'].sum()\n",
    "t_13 = ventas[(ventas['year'] == 2013) & (ventas['sales'] < 4000)].groupby('order_id')['sales'].sum() #quito los outliers porque me desvirtuan la venta\n",
    "t_14= ventas[(ventas['year'] == 2014) & (ventas['sales'] < 4000)].groupby('order_id')['sales'].sum()\n",
    "\n",
    "ttest_ind(t_11,t_12)"
   ]
  },
  {
   "cell_type": "code",
   "execution_count": 124,
   "metadata": {},
   "outputs": [
    {
     "data": {
      "text/plain": [
       "TtestResult(statistic=-1.0383695884705089, pvalue=0.29911885911397335, df=12049.0)"
      ]
     },
     "execution_count": 124,
     "metadata": {},
     "output_type": "execute_result"
    }
   ],
   "source": [
    "ttest_ind(t_12,t_13)"
   ]
  },
  {
   "cell_type": "code",
   "execution_count": 125,
   "metadata": {},
   "outputs": [
    {
     "data": {
      "text/plain": [
       "TtestResult(statistic=0.30618505112826555, pvalue=0.7594679353321728, df=15243.0)"
      ]
     },
     "execution_count": 125,
     "metadata": {},
     "output_type": "execute_result"
    }
   ],
   "source": [
    "ttest_ind(t_13,t_14)"
   ]
  },
  {
   "cell_type": "code",
   "execution_count": 126,
   "metadata": {},
   "outputs": [],
   "source": [
    "# El pedido medio en unidades es el mismo año a año.\n",
    "\n",
    "u_11= ventas[(ventas['year'] == 2011)].groupby('order_id')['quantity'].sum()\n",
    "u_12= ventas[(ventas['year'] == 2012)].groupby('order_id')['quantity'].sum()\n",
    "u_13 = ventas[(ventas['year'] == 2013)].groupby('order_id')['quantity'].sum() #quito los outliers porque me desvirtuan la venta\n",
    "u_14= ventas[(ventas['year'] == 2014)].groupby('order_id')['quantity'].sum()"
   ]
  },
  {
   "cell_type": "code",
   "execution_count": 127,
   "metadata": {},
   "outputs": [
    {
     "data": {
      "text/plain": [
       "TtestResult(statistic=-0.4130068373199547, pvalue=0.6796106576265579, df=9781.0)"
      ]
     },
     "execution_count": 127,
     "metadata": {},
     "output_type": "execute_result"
    }
   ],
   "source": [
    "ttest_ind(u_11,u_12)"
   ]
  },
  {
   "cell_type": "code",
   "execution_count": 128,
   "metadata": {},
   "outputs": [
    {
     "data": {
      "text/plain": [
       "TtestResult(statistic=-0.2588457415500143, pvalue=0.7957586804406879, df=12062.0)"
      ]
     },
     "execution_count": 128,
     "metadata": {},
     "output_type": "execute_result"
    }
   ],
   "source": [
    "ttest_ind(u_12,u_13)"
   ]
  },
  {
   "cell_type": "code",
   "execution_count": 129,
   "metadata": {},
   "outputs": [
    {
     "data": {
      "text/plain": [
       "TtestResult(statistic=0.5536085186045193, pvalue=0.5798549111777468, df=15250.0)"
      ]
     },
     "execution_count": 129,
     "metadata": {},
     "output_type": "execute_result"
    }
   ],
   "source": [
    "ttest_ind(u_13,u_14)"
   ]
  },
  {
   "cell_type": "code",
   "execution_count": 130,
   "metadata": {},
   "outputs": [
    {
     "data": {
      "text/html": [
       "<div>\n",
       "<style scoped>\n",
       "    .dataframe tbody tr th:only-of-type {\n",
       "        vertical-align: middle;\n",
       "    }\n",
       "\n",
       "    .dataframe tbody tr th {\n",
       "        vertical-align: top;\n",
       "    }\n",
       "\n",
       "    .dataframe thead th {\n",
       "        text-align: right;\n",
       "    }\n",
       "</style>\n",
       "<table border=\"1\" class=\"dataframe\">\n",
       "  <thead>\n",
       "    <tr style=\"text-align: right;\">\n",
       "      <th></th>\n",
       "      <th>sales</th>\n",
       "      <th>profit</th>\n",
       "      <th>quantity</th>\n",
       "      <th>order_id</th>\n",
       "      <th>avg_order</th>\n",
       "      <th>avg_order_u</th>\n",
       "    </tr>\n",
       "    <tr>\n",
       "      <th>year</th>\n",
       "      <th></th>\n",
       "      <th></th>\n",
       "      <th></th>\n",
       "      <th></th>\n",
       "      <th></th>\n",
       "      <th></th>\n",
       "    </tr>\n",
       "  </thead>\n",
       "  <tbody>\n",
       "    <tr>\n",
       "      <th>2011</th>\n",
       "      <td>2259511</td>\n",
       "      <td>248940.81154</td>\n",
       "      <td>31443</td>\n",
       "      <td>8998</td>\n",
       "      <td>251.112581</td>\n",
       "      <td>3.494443</td>\n",
       "    </tr>\n",
       "    <tr>\n",
       "      <th>2012</th>\n",
       "      <td>2677493</td>\n",
       "      <td>307415.27910</td>\n",
       "      <td>38111</td>\n",
       "      <td>10962</td>\n",
       "      <td>244.252235</td>\n",
       "      <td>3.476647</td>\n",
       "    </tr>\n",
       "    <tr>\n",
       "      <th>2013</th>\n",
       "      <td>3405860</td>\n",
       "      <td>406935.23018</td>\n",
       "      <td>48136</td>\n",
       "      <td>13799</td>\n",
       "      <td>246.819335</td>\n",
       "      <td>3.488369</td>\n",
       "    </tr>\n",
       "    <tr>\n",
       "      <th>2014</th>\n",
       "      <td>4300041</td>\n",
       "      <td>504165.97046</td>\n",
       "      <td>60622</td>\n",
       "      <td>17531</td>\n",
       "      <td>245.282129</td>\n",
       "      <td>3.457989</td>\n",
       "    </tr>\n",
       "  </tbody>\n",
       "</table>\n",
       "</div>"
      ],
      "text/plain": [
       "        sales        profit  quantity  order_id   avg_order  avg_order_u\n",
       "year                                                                    \n",
       "2011  2259511  248940.81154     31443      8998  251.112581     3.494443\n",
       "2012  2677493  307415.27910     38111     10962  244.252235     3.476647\n",
       "2013  3405860  406935.23018     48136     13799  246.819335     3.488369\n",
       "2014  4300041  504165.97046     60622     17531  245.282129     3.457989"
      ]
     },
     "execution_count": 130,
     "metadata": {},
     "output_type": "execute_result"
    }
   ],
   "source": [
    "#pedido medio\n",
    "\n",
    "v_kpi2['avg_order'] = v_kpi2['sales'] / v_kpi2['order_id']\n",
    "v_kpi2['avg_order_u'] = v_kpi2['quantity'] / v_kpi2['order_id']\n",
    "\n",
    "v_kpi2"
   ]
  },
  {
   "cell_type": "code",
   "execution_count": 131,
   "metadata": {},
   "outputs": [],
   "source": [
    "# El volumen de descuentos es muy elevado año a año y nos lleva a dopar la venta y perder margen.\n",
    "\n",
    "# Construimos la columna descuento\n",
    "\n",
    "ventas['gross_sales'] = (ventas['sales'])/(1-ventas['discount'])\n",
    "ventas['discount_$'] = ventas['gross_sales']*ventas['discount']\n",
    "\n"
   ]
  },
  {
   "cell_type": "code",
   "execution_count": 132,
   "metadata": {},
   "outputs": [
    {
     "data": {
      "text/html": [
       "<div>\n",
       "<style scoped>\n",
       "    .dataframe tbody tr th:only-of-type {\n",
       "        vertical-align: middle;\n",
       "    }\n",
       "\n",
       "    .dataframe tbody tr th {\n",
       "        vertical-align: top;\n",
       "    }\n",
       "\n",
       "    .dataframe thead th {\n",
       "        text-align: right;\n",
       "    }\n",
       "</style>\n",
       "<table border=\"1\" class=\"dataframe\">\n",
       "  <thead>\n",
       "    <tr style=\"text-align: right;\">\n",
       "      <th></th>\n",
       "      <th>discount_$</th>\n",
       "      <th>sales</th>\n",
       "    </tr>\n",
       "  </thead>\n",
       "  <tbody>\n",
       "    <tr>\n",
       "      <th>discount_$</th>\n",
       "      <td>1.000000</td>\n",
       "      <td>0.533147</td>\n",
       "    </tr>\n",
       "    <tr>\n",
       "      <th>sales</th>\n",
       "      <td>0.533147</td>\n",
       "      <td>1.000000</td>\n",
       "    </tr>\n",
       "  </tbody>\n",
       "</table>\n",
       "</div>"
      ],
      "text/plain": [
       "            discount_$     sales\n",
       "discount_$    1.000000  0.533147\n",
       "sales         0.533147  1.000000"
      ]
     },
     "execution_count": 132,
     "metadata": {},
     "output_type": "execute_result"
    }
   ],
   "source": [
    "ventas[ventas['year'] == 2011][['discount_$','sales']].corr()\n",
    "\n",
    "#a mas descuento crece la venta"
   ]
  },
  {
   "cell_type": "code",
   "execution_count": 133,
   "metadata": {},
   "outputs": [
    {
     "data": {
      "text/html": [
       "<div>\n",
       "<style scoped>\n",
       "    .dataframe tbody tr th:only-of-type {\n",
       "        vertical-align: middle;\n",
       "    }\n",
       "\n",
       "    .dataframe tbody tr th {\n",
       "        vertical-align: top;\n",
       "    }\n",
       "\n",
       "    .dataframe thead th {\n",
       "        text-align: right;\n",
       "    }\n",
       "</style>\n",
       "<table border=\"1\" class=\"dataframe\">\n",
       "  <thead>\n",
       "    <tr style=\"text-align: right;\">\n",
       "      <th></th>\n",
       "      <th>discount_$</th>\n",
       "      <th>sales</th>\n",
       "    </tr>\n",
       "  </thead>\n",
       "  <tbody>\n",
       "    <tr>\n",
       "      <th>discount_$</th>\n",
       "      <td>1.000000</td>\n",
       "      <td>0.333368</td>\n",
       "    </tr>\n",
       "    <tr>\n",
       "      <th>sales</th>\n",
       "      <td>0.333368</td>\n",
       "      <td>1.000000</td>\n",
       "    </tr>\n",
       "  </tbody>\n",
       "</table>\n",
       "</div>"
      ],
      "text/plain": [
       "            discount_$     sales\n",
       "discount_$    1.000000  0.333368\n",
       "sales         0.333368  1.000000"
      ]
     },
     "execution_count": 133,
     "metadata": {},
     "output_type": "execute_result"
    }
   ],
   "source": [
    "ventas[ventas['year'] == 2012][['discount_$','sales']].corr()\n"
   ]
  },
  {
   "cell_type": "code",
   "execution_count": 134,
   "metadata": {},
   "outputs": [
    {
     "data": {
      "text/html": [
       "<div>\n",
       "<style scoped>\n",
       "    .dataframe tbody tr th:only-of-type {\n",
       "        vertical-align: middle;\n",
       "    }\n",
       "\n",
       "    .dataframe tbody tr th {\n",
       "        vertical-align: top;\n",
       "    }\n",
       "\n",
       "    .dataframe thead th {\n",
       "        text-align: right;\n",
       "    }\n",
       "</style>\n",
       "<table border=\"1\" class=\"dataframe\">\n",
       "  <thead>\n",
       "    <tr style=\"text-align: right;\">\n",
       "      <th></th>\n",
       "      <th>discount_$</th>\n",
       "      <th>sales</th>\n",
       "    </tr>\n",
       "  </thead>\n",
       "  <tbody>\n",
       "    <tr>\n",
       "      <th>discount_$</th>\n",
       "      <td>1.000000</td>\n",
       "      <td>0.339573</td>\n",
       "    </tr>\n",
       "    <tr>\n",
       "      <th>sales</th>\n",
       "      <td>0.339573</td>\n",
       "      <td>1.000000</td>\n",
       "    </tr>\n",
       "  </tbody>\n",
       "</table>\n",
       "</div>"
      ],
      "text/plain": [
       "            discount_$     sales\n",
       "discount_$    1.000000  0.339573\n",
       "sales         0.339573  1.000000"
      ]
     },
     "execution_count": 134,
     "metadata": {},
     "output_type": "execute_result"
    }
   ],
   "source": [
    "ventas[ventas['year'] == 2013][['discount_$','sales']].corr()\n"
   ]
  },
  {
   "cell_type": "code",
   "execution_count": 135,
   "metadata": {},
   "outputs": [
    {
     "data": {
      "text/html": [
       "<div>\n",
       "<style scoped>\n",
       "    .dataframe tbody tr th:only-of-type {\n",
       "        vertical-align: middle;\n",
       "    }\n",
       "\n",
       "    .dataframe tbody tr th {\n",
       "        vertical-align: top;\n",
       "    }\n",
       "\n",
       "    .dataframe thead th {\n",
       "        text-align: right;\n",
       "    }\n",
       "</style>\n",
       "<table border=\"1\" class=\"dataframe\">\n",
       "  <thead>\n",
       "    <tr style=\"text-align: right;\">\n",
       "      <th></th>\n",
       "      <th>discount_$</th>\n",
       "      <th>sales</th>\n",
       "    </tr>\n",
       "  </thead>\n",
       "  <tbody>\n",
       "    <tr>\n",
       "      <th>discount_$</th>\n",
       "      <td>1.000000</td>\n",
       "      <td>0.341648</td>\n",
       "    </tr>\n",
       "    <tr>\n",
       "      <th>sales</th>\n",
       "      <td>0.341648</td>\n",
       "      <td>1.000000</td>\n",
       "    </tr>\n",
       "  </tbody>\n",
       "</table>\n",
       "</div>"
      ],
      "text/plain": [
       "            discount_$     sales\n",
       "discount_$    1.000000  0.341648\n",
       "sales         0.341648  1.000000"
      ]
     },
     "execution_count": 135,
     "metadata": {},
     "output_type": "execute_result"
    }
   ],
   "source": [
    "ventas[ventas['year'] == 2014][['discount_$','sales']].corr()\n"
   ]
  },
  {
   "cell_type": "code",
   "execution_count": 136,
   "metadata": {},
   "outputs": [
    {
     "data": {
      "text/html": [
       "<div>\n",
       "<style scoped>\n",
       "    .dataframe tbody tr th:only-of-type {\n",
       "        vertical-align: middle;\n",
       "    }\n",
       "\n",
       "    .dataframe tbody tr th {\n",
       "        vertical-align: top;\n",
       "    }\n",
       "\n",
       "    .dataframe thead th {\n",
       "        text-align: right;\n",
       "    }\n",
       "</style>\n",
       "<table border=\"1\" class=\"dataframe\">\n",
       "  <thead>\n",
       "    <tr style=\"text-align: right;\">\n",
       "      <th></th>\n",
       "      <th>discount_$</th>\n",
       "      <th>profit</th>\n",
       "    </tr>\n",
       "  </thead>\n",
       "  <tbody>\n",
       "    <tr>\n",
       "      <th>discount_$</th>\n",
       "      <td>1.00000</td>\n",
       "      <td>-0.37127</td>\n",
       "    </tr>\n",
       "    <tr>\n",
       "      <th>profit</th>\n",
       "      <td>-0.37127</td>\n",
       "      <td>1.00000</td>\n",
       "    </tr>\n",
       "  </tbody>\n",
       "</table>\n",
       "</div>"
      ],
      "text/plain": [
       "            discount_$   profit\n",
       "discount_$     1.00000 -0.37127\n",
       "profit        -0.37127  1.00000"
      ]
     },
     "execution_count": 136,
     "metadata": {},
     "output_type": "execute_result"
    }
   ],
   "source": [
    "ventas[ventas['year'] == 2011][['discount_$','profit']].corr()\n",
    "\n",
    "#a mas descuento, menos beneficio.\n"
   ]
  },
  {
   "cell_type": "code",
   "execution_count": 137,
   "metadata": {},
   "outputs": [
    {
     "data": {
      "text/html": [
       "<div>\n",
       "<style scoped>\n",
       "    .dataframe tbody tr th:only-of-type {\n",
       "        vertical-align: middle;\n",
       "    }\n",
       "\n",
       "    .dataframe tbody tr th {\n",
       "        vertical-align: top;\n",
       "    }\n",
       "\n",
       "    .dataframe thead th {\n",
       "        text-align: right;\n",
       "    }\n",
       "</style>\n",
       "<table border=\"1\" class=\"dataframe\">\n",
       "  <thead>\n",
       "    <tr style=\"text-align: right;\">\n",
       "      <th></th>\n",
       "      <th>discount_$</th>\n",
       "      <th>profit</th>\n",
       "    </tr>\n",
       "  </thead>\n",
       "  <tbody>\n",
       "    <tr>\n",
       "      <th>discount_$</th>\n",
       "      <td>1.000000</td>\n",
       "      <td>-0.490037</td>\n",
       "    </tr>\n",
       "    <tr>\n",
       "      <th>profit</th>\n",
       "      <td>-0.490037</td>\n",
       "      <td>1.000000</td>\n",
       "    </tr>\n",
       "  </tbody>\n",
       "</table>\n",
       "</div>"
      ],
      "text/plain": [
       "            discount_$    profit\n",
       "discount_$    1.000000 -0.490037\n",
       "profit       -0.490037  1.000000"
      ]
     },
     "execution_count": 137,
     "metadata": {},
     "output_type": "execute_result"
    }
   ],
   "source": [
    "ventas[ventas['year'] == 2012][['discount_$','profit']].corr()"
   ]
  },
  {
   "cell_type": "code",
   "execution_count": 138,
   "metadata": {},
   "outputs": [
    {
     "data": {
      "text/html": [
       "<div>\n",
       "<style scoped>\n",
       "    .dataframe tbody tr th:only-of-type {\n",
       "        vertical-align: middle;\n",
       "    }\n",
       "\n",
       "    .dataframe tbody tr th {\n",
       "        vertical-align: top;\n",
       "    }\n",
       "\n",
       "    .dataframe thead th {\n",
       "        text-align: right;\n",
       "    }\n",
       "</style>\n",
       "<table border=\"1\" class=\"dataframe\">\n",
       "  <thead>\n",
       "    <tr style=\"text-align: right;\">\n",
       "      <th></th>\n",
       "      <th>discount_$</th>\n",
       "      <th>profit</th>\n",
       "    </tr>\n",
       "  </thead>\n",
       "  <tbody>\n",
       "    <tr>\n",
       "      <th>discount_$</th>\n",
       "      <td>1.000000</td>\n",
       "      <td>-0.468464</td>\n",
       "    </tr>\n",
       "    <tr>\n",
       "      <th>profit</th>\n",
       "      <td>-0.468464</td>\n",
       "      <td>1.000000</td>\n",
       "    </tr>\n",
       "  </tbody>\n",
       "</table>\n",
       "</div>"
      ],
      "text/plain": [
       "            discount_$    profit\n",
       "discount_$    1.000000 -0.468464\n",
       "profit       -0.468464  1.000000"
      ]
     },
     "execution_count": 138,
     "metadata": {},
     "output_type": "execute_result"
    }
   ],
   "source": [
    "ventas[ventas['year'] == 2013][['discount_$','profit']].corr()"
   ]
  },
  {
   "cell_type": "code",
   "execution_count": 139,
   "metadata": {},
   "outputs": [
    {
     "data": {
      "text/html": [
       "<div>\n",
       "<style scoped>\n",
       "    .dataframe tbody tr th:only-of-type {\n",
       "        vertical-align: middle;\n",
       "    }\n",
       "\n",
       "    .dataframe tbody tr th {\n",
       "        vertical-align: top;\n",
       "    }\n",
       "\n",
       "    .dataframe thead th {\n",
       "        text-align: right;\n",
       "    }\n",
       "</style>\n",
       "<table border=\"1\" class=\"dataframe\">\n",
       "  <thead>\n",
       "    <tr style=\"text-align: right;\">\n",
       "      <th></th>\n",
       "      <th>discount_$</th>\n",
       "      <th>profit</th>\n",
       "    </tr>\n",
       "  </thead>\n",
       "  <tbody>\n",
       "    <tr>\n",
       "      <th>discount_$</th>\n",
       "      <td>1.000000</td>\n",
       "      <td>-0.456099</td>\n",
       "    </tr>\n",
       "    <tr>\n",
       "      <th>profit</th>\n",
       "      <td>-0.456099</td>\n",
       "      <td>1.000000</td>\n",
       "    </tr>\n",
       "  </tbody>\n",
       "</table>\n",
       "</div>"
      ],
      "text/plain": [
       "            discount_$    profit\n",
       "discount_$    1.000000 -0.456099\n",
       "profit       -0.456099  1.000000"
      ]
     },
     "execution_count": 139,
     "metadata": {},
     "output_type": "execute_result"
    }
   ],
   "source": [
    "ventas[ventas['year'] == 2014][['discount_$','profit']].corr()"
   ]
  },
  {
   "cell_type": "code",
   "execution_count": 140,
   "metadata": {},
   "outputs": [
    {
     "data": {
      "image/png": "[encoded data removed]",
      "text/plain": [
       "<Figure size 1200x900 with 2 Axes>"
      ]
     },
     "metadata": {},
     "output_type": "display_data"
    }
   ],
   "source": [
    "m_corr = ventas[['sales','profit','discount_$']]\n",
    "\n",
    "plt.figure(figsize=(12,9))\n",
    "sns.heatmap(m_corr.corr(),\n",
    "           vmin=-1,vmax=1,annot=True,linewidths=0.5,cmap='coolwarm');"
   ]
  },
  {
   "cell_type": "code",
   "execution_count": 141,
   "metadata": {},
   "outputs": [
    {
     "data": {
      "text/plain": [
       "'deberiamos invertir menos en descuentos, sobretodo haciendo incapié en aquellos donde nos lleva a vender a perdidas, venderiamos menos pero con mas eficiencia'"
      ]
     },
     "execution_count": 141,
     "metadata": {},
     "output_type": "execute_result"
    }
   ],
   "source": [
    "'''CONCLUSION: LOS DESCUENTOS AUMENTAN LA VENTA PERO MATAN EL MARGEN'''\n",
    "'''deberiamos invertir menos en descuentos, sobretodo haciendo incapié en aquellos donde nos lleva a vender a perdidas, venderiamos menos pero con mas eficiencia'''"
   ]
  },
  {
   "cell_type": "code",
   "execution_count": 142,
   "metadata": {},
   "outputs": [
    {
     "data": {
      "text/html": [
       "<div>\n",
       "<style scoped>\n",
       "    .dataframe tbody tr th:only-of-type {\n",
       "        vertical-align: middle;\n",
       "    }\n",
       "\n",
       "    .dataframe tbody tr th {\n",
       "        vertical-align: top;\n",
       "    }\n",
       "\n",
       "    .dataframe thead th {\n",
       "        text-align: right;\n",
       "    }\n",
       "</style>\n",
       "<table border=\"1\" class=\"dataframe\">\n",
       "  <thead>\n",
       "    <tr style=\"text-align: right;\">\n",
       "      <th></th>\n",
       "      <th></th>\n",
       "      <th>profit</th>\n",
       "    </tr>\n",
       "    <tr>\n",
       "      <th>year</th>\n",
       "      <th>sub_category</th>\n",
       "      <th></th>\n",
       "    </tr>\n",
       "  </thead>\n",
       "  <tbody>\n",
       "    <tr>\n",
       "      <th>2014</th>\n",
       "      <th>Copiers</th>\n",
       "      <td>104048.53596</td>\n",
       "    </tr>\n",
       "    <tr>\n",
       "      <th>2013</th>\n",
       "      <th>Copiers</th>\n",
       "      <td>72300.69118</td>\n",
       "    </tr>\n",
       "    <tr>\n",
       "      <th rowspan=\"2\" valign=\"top\">2014</th>\n",
       "      <th>Phones</th>\n",
       "      <td>70657.64130</td>\n",
       "    </tr>\n",
       "    <tr>\n",
       "      <th>Bookcases</th>\n",
       "      <td>63219.05050</td>\n",
       "    </tr>\n",
       "    <tr>\n",
       "      <th rowspan=\"3\" valign=\"top\">2011</th>\n",
       "      <th>Phones</th>\n",
       "      <td>53927.48950</td>\n",
       "    </tr>\n",
       "    <tr>\n",
       "      <th>...</th>\n",
       "      <td>...</td>\n",
       "    </tr>\n",
       "    <tr>\n",
       "      <th>Fasteners</th>\n",
       "      <td>1936.91690</td>\n",
       "    </tr>\n",
       "    <tr>\n",
       "      <th>2012</th>\n",
       "      <th>Tables</th>\n",
       "      <td>-8421.69860</td>\n",
       "    </tr>\n",
       "    <tr>\n",
       "      <th>2011</th>\n",
       "      <th>Tables</th>\n",
       "      <td>-11075.29450</td>\n",
       "    </tr>\n",
       "    <tr>\n",
       "      <th>2013</th>\n",
       "      <th>Tables</th>\n",
       "      <td>-14040.48720</td>\n",
       "    </tr>\n",
       "    <tr>\n",
       "      <th>2014</th>\n",
       "      <th>Tables</th>\n",
       "      <td>-30545.90840</td>\n",
       "    </tr>\n",
       "  </tbody>\n",
       "</table>\n",
       "<p>68 rows × 1 columns</p>\n",
       "</div>"
      ],
      "text/plain": [
       "                         profit\n",
       "year sub_category              \n",
       "2014 Copiers       104048.53596\n",
       "2013 Copiers        72300.69118\n",
       "2014 Phones         70657.64130\n",
       "     Bookcases      63219.05050\n",
       "2011 Phones         53927.48950\n",
       "...                         ...\n",
       "     Fasteners       1936.91690\n",
       "2012 Tables         -8421.69860\n",
       "2011 Tables        -11075.29450\n",
       "2013 Tables        -14040.48720\n",
       "2014 Tables        -30545.90840\n",
       "\n",
       "[68 rows x 1 columns]"
      ]
     },
     "execution_count": 142,
     "metadata": {},
     "output_type": "execute_result"
    }
   ],
   "source": [
    "p_cat = ventas.groupby(['year', 'sub_category'])[['profit']].sum().sort_values(by = 'profit', ascending = False)\n",
    "p_cat"
   ]
  },
  {
   "cell_type": "code",
   "execution_count": 143,
   "metadata": {},
   "outputs": [
    {
     "data": {
      "application/vnd.plotly.v1+json": {
       "config": {
        "plotlyServerURL": "https://plot.ly"
       },
       "data": [
        {
         "marker": {
          "color": "rgba(171,50,96,0.6)"
         },
         "name": "2011",
         "type": "bar",
         "x": [
          "Accessories",
          "Appliances",
          "Art",
          "Binders",
          "Bookcases",
          "Chairs",
          "Copiers",
          "Envelopes",
          "Fasteners",
          "Furnishings",
          "Labels",
          "Machines",
          "Paper",
          "Phones",
          "Storage",
          "Supplies",
          "Tables"
         ],
         "y": [
          15719.8606,
          22838.441300000002,
          10399.0233,
          11447.2053,
          27518.857500000002,
          29943.1571,
          30375.09344,
          5066.1793,
          1936.9169,
          7310.2063,
          3118.8878,
          9224.907299999999,
          10664.9635,
          53927.489499999996,
          15944.499,
          4580.4179,
          -11075.2945
         ]
        },
        {
         "marker": {
          "color": "rgba(12,50,196,0.6)"
         },
         "name": "2012",
         "type": "bar",
         "x": [
          "Accessories",
          "Appliances",
          "Art",
          "Binders",
          "Bookcases",
          "Chairs",
          "Copiers",
          "Envelopes",
          "Fasteners",
          "Furnishings",
          "Labels",
          "Machines",
          "Paper",
          "Phones",
          "Storage",
          "Supplies",
          "Tables"
         ],
         "y": [
          33507.1002,
          24316.1316,
          11841.3334,
          17122.5192,
          28137.2671,
          28755.346700000002,
          51843.2276,
          6602.8921,
          3003.9775,
          9661.9188,
          3230.3374,
          15403.5597,
          10687.2413,
          45223.0498,
          21489.0093,
          5012.066,
          -8421.6986
         ]
        },
        {
         "marker": {
          "color": "rgba(80,90,196,0.6)"
         },
         "name": "2013",
         "type": "bar",
         "x": [
          "Accessories",
          "Appliances",
          "Art",
          "Binders",
          "Bookcases",
          "Chairs",
          "Copiers",
          "Envelopes",
          "Fasteners",
          "Furnishings",
          "Labels",
          "Machines",
          "Paper",
          "Phones",
          "Storage",
          "Supplies",
          "Tables"
         ],
         "y": [
          38805.4168,
          41485.516,
          15629.7945,
          21523.6311,
          43049.2444,
          40449.4921,
          72300.69118,
          9571.9536,
          2912.2223,
          14604.6512,
          3606.5714,
          15611.6607,
          16879.6473,
          46908.8252,
          32011.0294,
          5625.3702,
          -14040.4872
         ]
        },
        {
         "marker": {
          "color": "rgba(120,90,96,0.6)"
         },
         "name": "2014",
         "type": "bar",
         "x": [
          "Accessories",
          "Appliances",
          "Art",
          "Binders",
          "Bookcases",
          "Chairs",
          "Copiers",
          "Envelopes",
          "Fasteners",
          "Furnishings",
          "Labels",
          "Machines",
          "Paper",
          "Phones",
          "Storage",
          "Supplies",
          "Tables"
         ],
         "y": [
          41593.9286,
          53040.5005,
          20083.7597,
          22356.4904,
          63219.0505,
          41248.2716,
          104048.53596,
          8360.0913,
          3672.3074,
          15390.6492,
          5054.7154,
          18627.7453,
          20975.8306,
          70657.6413,
          39016.9521,
          7365.409,
          -30545.9084
         ]
        }
       ],
       "layout": {
        "barmode": "group",
        "template": {
         "data": {
          "bar": [
           {
            "error_x": {
             "color": "#2a3f5f"
            },
            "error_y": {
             "color": "#2a3f5f"
            },
            "marker": {
             "line": {
              "color": "#E5ECF6",
              "width": 0.5
             },
             "pattern": {
              "fillmode": "overlay",
              "size": 10,
              "solidity": 0.2
             }
            },
            "type": "bar"
           }
          ],
          "barpolar": [
           {
            "marker": {
             "line": {
              "color": "#E5ECF6",
              "width": 0.5
             },
             "pattern": {
              "fillmode": "overlay",
              "size": 10,
              "solidity": 0.2
             }
            },
            "type": "barpolar"
           }
          ],
          "carpet": [
           {
            "aaxis": {
             "endlinecolor": "#2a3f5f",
             "gridcolor": "white",
             "linecolor": "white",
             "minorgridcolor": "white",
             "startlinecolor": "#2a3f5f"
            },
            "baxis": {
             "endlinecolor": "#2a3f5f",
             "gridcolor": "white",
             "linecolor": "white",
             "minorgridcolor": "white",
             "startlinecolor": "#2a3f5f"
            },
            "type": "carpet"
           }
          ],
          "choropleth": [
           {
            "colorbar": {
             "outlinewidth": 0,
             "ticks": ""
            },
            "type": "choropleth"
           }
          ],
          "contour": [
           {
            "colorbar": {
             "outlinewidth": 0,
             "ticks": ""
            },
            "colorscale": [
             [
              0,
              "#0d0887"
             ],
             [
              0.1111111111111111,
              "#46039f"
             ],
             [
              0.2222222222222222,
              "#7201a8"
             ],
             [
              0.3333333333333333,
              "#9c179e"
             ],
             [
              0.4444444444444444,
              "#bd3786"
             ],
             [
              0.5555555555555556,
              "#d8576b"
             ],
             [
              0.6666666666666666,
              "#ed7953"
             ],
             [
              0.7777777777777778,
              "#fb9f3a"
             ],
             [
              0.8888888888888888,
              "#fdca26"
             ],
             [
              1,
              "#f0f921"
             ]
            ],
            "type": "contour"
           }
          ],
          "contourcarpet": [
           {
            "colorbar": {
             "outlinewidth": 0,
             "ticks": ""
            },
            "type": "contourcarpet"
           }
          ],
          "heatmap": [
           {
            "colorbar": {
             "outlinewidth": 0,
             "ticks": ""
            },
            "colorscale": [
             [
              0,
              "#0d0887"
             ],
             [
              0.1111111111111111,
              "#46039f"
             ],
             [
              0.2222222222222222,
              "#7201a8"
             ],
             [
              0.3333333333333333,
              "#9c179e"
             ],
             [
              0.4444444444444444,
              "#bd3786"
             ],
             [
              0.5555555555555556,
              "#d8576b"
             ],
             [
              0.6666666666666666,
              "#ed7953"
             ],
             [
              0.7777777777777778,
              "#fb9f3a"
             ],
             [
              0.8888888888888888,
              "#fdca26"
             ],
             [
              1,
              "#f0f921"
             ]
            ],
            "type": "heatmap"
           }
          ],
          "heatmapgl": [
           {
            "colorbar": {
             "outlinewidth": 0,
             "ticks": ""
            },
            "colorscale": [
             [
              0,
              "#0d0887"
             ],
             [
              0.1111111111111111,
              "#46039f"
             ],
             [
              0.2222222222222222,
              "#7201a8"
             ],
             [
              0.3333333333333333,
              "#9c179e"
             ],
             [
              0.4444444444444444,
              "#bd3786"
             ],
             [
              0.5555555555555556,
              "#d8576b"
             ],
             [
              0.6666666666666666,
              "#ed7953"
             ],
             [
              0.7777777777777778,
              "#fb9f3a"
             ],
             [
              0.8888888888888888,
              "#fdca26"
             ],
             [
              1,
              "#f0f921"
             ]
            ],
            "type": "heatmapgl"
           }
          ],
          "histogram": [
           {
            "marker": {
             "pattern": {
              "fillmode": "overlay",
              "size": 10,
              "solidity": 0.2
             }
            },
            "type": "histogram"
           }
          ],
          "histogram2d": [
           {
            "colorbar": {
             "outlinewidth": 0,
             "ticks": ""
            },
            "colorscale": [
             [
              0,
              "#0d0887"
             ],
             [
              0.1111111111111111,
              "#46039f"
             ],
             [
              0.2222222222222222,
              "#7201a8"
             ],
             [
              0.3333333333333333,
              "#9c179e"
             ],
             [
              0.4444444444444444,
              "#bd3786"
             ],
             [
              0.5555555555555556,
              "#d8576b"
             ],
             [
              0.6666666666666666,
              "#ed7953"
             ],
             [
              0.7777777777777778,
              "#fb9f3a"
             ],
             [
              0.8888888888888888,
              "#fdca26"
             ],
             [
              1,
              "#f0f921"
             ]
            ],
            "type": "histogram2d"
           }
          ],
          "histogram2dcontour": [
           {
            "colorbar": {
             "outlinewidth": 0,
             "ticks": ""
            },
            "colorscale": [
             [
              0,
              "#0d0887"
             ],
             [
              0.1111111111111111,
              "#46039f"
             ],
             [
              0.2222222222222222,
              "#7201a8"
             ],
             [
              0.3333333333333333,
              "#9c179e"
             ],
             [
              0.4444444444444444,
              "#bd3786"
             ],
             [
              0.5555555555555556,
              "#d8576b"
             ],
             [
              0.6666666666666666,
              "#ed7953"
             ],
             [
              0.7777777777777778,
              "#fb9f3a"
             ],
             [
              0.8888888888888888,
              "#fdca26"
             ],
             [
              1,
              "#f0f921"
             ]
            ],
            "type": "histogram2dcontour"
           }
          ],
          "mesh3d": [
           {
            "colorbar": {
             "outlinewidth": 0,
             "ticks": ""
            },
            "type": "mesh3d"
           }
          ],
          "parcoords": [
           {
            "line": {
             "colorbar": {
              "outlinewidth": 0,
              "ticks": ""
             }
            },
            "type": "parcoords"
           }
          ],
          "pie": [
           {
            "automargin": true,
            "type": "pie"
           }
          ],
          "scatter": [
           {
            "fillpattern": {
             "fillmode": "overlay",
             "size": 10,
             "solidity": 0.2
            },
            "type": "scatter"
           }
          ],
          "scatter3d": [
           {
            "line": {
             "colorbar": {
              "outlinewidth": 0,
              "ticks": ""
             }
            },
            "marker": {
             "colorbar": {
              "outlinewidth": 0,
              "ticks": ""
             }
            },
            "type": "scatter3d"
           }
          ],
          "scattercarpet": [
           {
            "marker": {
             "colorbar": {
              "outlinewidth": 0,
              "ticks": ""
             }
            },
            "type": "scattercarpet"
           }
          ],
          "scattergeo": [
           {
            "marker": {
             "colorbar": {
              "outlinewidth": 0,
              "ticks": ""
             }
            },
            "type": "scattergeo"
           }
          ],
          "scattergl": [
           {
            "marker": {
             "colorbar": {
              "outlinewidth": 0,
              "ticks": ""
             }
            },
            "type": "scattergl"
           }
          ],
          "scattermapbox": [
           {
            "marker": {
             "colorbar": {
              "outlinewidth": 0,
              "ticks": ""
             }
            },
            "type": "scattermapbox"
           }
          ],
          "scatterpolar": [
           {
            "marker": {
             "colorbar": {
              "outlinewidth": 0,
              "ticks": ""
             }
            },
            "type": "scatterpolar"
           }
          ],
          "scatterpolargl": [
           {
            "marker": {
             "colorbar": {
              "outlinewidth": 0,
              "ticks": ""
             }
            },
            "type": "scatterpolargl"
           }
          ],
          "scatterternary": [
           {
            "marker": {
             "colorbar": {
              "outlinewidth": 0,
              "ticks": ""
             }
            },
            "type": "scatterternary"
           }
          ],
          "surface": [
           {
            "colorbar": {
             "outlinewidth": 0,
             "ticks": ""
            },
            "colorscale": [
             [
              0,
              "#0d0887"
             ],
             [
              0.1111111111111111,
              "#46039f"
             ],
             [
              0.2222222222222222,
              "#7201a8"
             ],
             [
              0.3333333333333333,
              "#9c179e"
             ],
             [
              0.4444444444444444,
              "#bd3786"
             ],
             [
              0.5555555555555556,
              "#d8576b"
             ],
             [
              0.6666666666666666,
              "#ed7953"
             ],
             [
              0.7777777777777778,
              "#fb9f3a"
             ],
             [
              0.8888888888888888,
              "#fdca26"
             ],
             [
              1,
              "#f0f921"
             ]
            ],
            "type": "surface"
           }
          ],
          "table": [
           {
            "cells": {
             "fill": {
              "color": "#EBF0F8"
             },
             "line": {
              "color": "white"
             }
            },
            "header": {
             "fill": {
              "color": "#C8D4E3"
             },
             "line": {
              "color": "white"
             }
            },
            "type": "table"
           }
          ]
         },
         "layout": {
          "annotationdefaults": {
           "arrowcolor": "#2a3f5f",
           "arrowhead": 0,
           "arrowwidth": 1
          },
          "autotypenumbers": "strict",
          "coloraxis": {
           "colorbar": {
            "outlinewidth": 0,
            "ticks": ""
           }
          },
          "colorscale": {
           "diverging": [
            [
             0,
             "#8e0152"
            ],
            [
             0.1,
             "#c51b7d"
            ],
            [
             0.2,
             "#de77ae"
            ],
            [
             0.3,
             "#f1b6da"
            ],
            [
             0.4,
             "#fde0ef"
            ],
            [
             0.5,
             "#f7f7f7"
            ],
            [
             0.6,
             "#e6f5d0"
            ],
            [
             0.7,
             "#b8e186"
            ],
            [
             0.8,
             "#7fbc41"
            ],
            [
             0.9,
             "#4d9221"
            ],
            [
             1,
             "#276419"
            ]
           ],
           "sequential": [
            [
             0,
             "#0d0887"
            ],
            [
             0.1111111111111111,
             "#46039f"
            ],
            [
             0.2222222222222222,
             "#7201a8"
            ],
            [
             0.3333333333333333,
             "#9c179e"
            ],
            [
             0.4444444444444444,
             "#bd3786"
            ],
            [
             0.5555555555555556,
             "#d8576b"
            ],
            [
             0.6666666666666666,
             "#ed7953"
            ],
            [
             0.7777777777777778,
             "#fb9f3a"
            ],
            [
             0.8888888888888888,
             "#fdca26"
            ],
            [
             1,
             "#f0f921"
            ]
           ],
           "sequentialminus": [
            [
             0,
             "#0d0887"
            ],
            [
             0.1111111111111111,
             "#46039f"
            ],
            [
             0.2222222222222222,
             "#7201a8"
            ],
            [
             0.3333333333333333,
             "#9c179e"
            ],
            [
             0.4444444444444444,
             "#bd3786"
            ],
            [
             0.5555555555555556,
             "#d8576b"
            ],
            [
             0.6666666666666666,
             "#ed7953"
            ],
            [
             0.7777777777777778,
             "#fb9f3a"
            ],
            [
             0.8888888888888888,
             "#fdca26"
            ],
            [
             1,
             "#f0f921"
            ]
           ]
          },
          "colorway": [
           "#636efa",
           "#EF553B",
           "#00cc96",
           "#ab63fa",
           "#FFA15A",
           "#19d3f3",
           "#FF6692",
           "#B6E880",
           "#FF97FF",
           "#FECB52"
          ],
          "font": {
           "color": "#2a3f5f"
          },
          "geo": {
           "bgcolor": "white",
           "lakecolor": "white",
           "landcolor": "#E5ECF6",
           "showlakes": true,
           "showland": true,
           "subunitcolor": "white"
          },
          "hoverlabel": {
           "align": "left"
          },
          "hovermode": "closest",
          "mapbox": {
           "style": "light"
          },
          "paper_bgcolor": "white",
          "plot_bgcolor": "#E5ECF6",
          "polar": {
           "angularaxis": {
            "gridcolor": "white",
            "linecolor": "white",
            "ticks": ""
           },
           "bgcolor": "#E5ECF6",
           "radialaxis": {
            "gridcolor": "white",
            "linecolor": "white",
            "ticks": ""
           }
          },
          "scene": {
           "xaxis": {
            "backgroundcolor": "#E5ECF6",
            "gridcolor": "white",
            "gridwidth": 2,
            "linecolor": "white",
            "showbackground": true,
            "ticks": "",
            "zerolinecolor": "white"
           },
           "yaxis": {
            "backgroundcolor": "#E5ECF6",
            "gridcolor": "white",
            "gridwidth": 2,
            "linecolor": "white",
            "showbackground": true,
            "ticks": "",
            "zerolinecolor": "white"
           },
           "zaxis": {
            "backgroundcolor": "#E5ECF6",
            "gridcolor": "white",
            "gridwidth": 2,
            "linecolor": "white",
            "showbackground": true,
            "ticks": "",
            "zerolinecolor": "white"
           }
          },
          "shapedefaults": {
           "line": {
            "color": "#2a3f5f"
           }
          },
          "ternary": {
           "aaxis": {
            "gridcolor": "white",
            "linecolor": "white",
            "ticks": ""
           },
           "baxis": {
            "gridcolor": "white",
            "linecolor": "white",
            "ticks": ""
           },
           "bgcolor": "#E5ECF6",
           "caxis": {
            "gridcolor": "white",
            "linecolor": "white",
            "ticks": ""
           }
          },
          "title": {
           "x": 0.05
          },
          "xaxis": {
           "automargin": true,
           "gridcolor": "white",
           "linecolor": "white",
           "ticks": "",
           "title": {
            "standoff": 15
           },
           "zerolinecolor": "white",
           "zerolinewidth": 2
          },
          "yaxis": {
           "automargin": true,
           "gridcolor": "white",
           "linecolor": "white",
           "ticks": "",
           "title": {
            "standoff": 15
           },
           "zerolinecolor": "white",
           "zerolinewidth": 2
          }
         }
        },
        "title": {
         "text": "Beneficio por categoría 2011-2014"
        },
        "xaxis": {
         "title": {
          "text": "Categoría"
         }
        },
        "yaxis": {
         "title": {
          "text": "Beneficio"
         }
        }
       }
      }
     },
     "metadata": {},
     "output_type": "display_data"
    }
   ],
   "source": [
    "# nuestra mejor y peor categoria en cuanto a beneficio\n",
    "\n",
    "p2 = p_cat.groupby(['sub_category', 'year'])['profit'].sum().reset_index()\n",
    "\n",
    "x2011 = p2[p2['year'] == 2011]\n",
    "x2012 = p2[p2['year'] == 2012]\n",
    "x2013 = p2[p2['year'] == 2013]\n",
    "x2014 = p2[p2['year'] == 2014]\n",
    "\n",
    "# Crear los trazos para cada año\n",
    "trace1 = go.Bar(x=x2011['sub_category'], y=x2011['profit'],\n",
    "                name='2011', marker=dict(color='rgba(171,50,96,0.6)'))\n",
    "\n",
    "trace2 = go.Bar(x=x2012['sub_category'], y=x2012['profit'],\n",
    "                name='2012', marker=dict(color='rgba(12,50,196,0.6)'))\n",
    "\n",
    "trace3 = go.Bar(x=x2013['sub_category'], y=x2013['profit'],\n",
    "                name='2013', marker=dict(color='rgba(80,90,196,0.6)'))\n",
    "\n",
    "trace4 = go.Bar(x=x2014['sub_category'], y=x2014['profit'],\n",
    "                name='2014', marker=dict(color='rgba(120,90,96,0.6)'))\n",
    "\n",
    "# Crear la lista de datos incluyendo todos los trazos\n",
    "data = [trace1, trace2, trace3, trace4]\n",
    "\n",
    "# Configurar el layout con modo de barra apilada\n",
    "layout = go.Layout(barmode='group',  # Cambia 'overlay' a 'group' para apilar las barras\n",
    "                   title='Beneficio por categoría 2011-2014',\n",
    "                   xaxis=dict(title='Categoría'),\n",
    "                   yaxis=dict(title='Beneficio'))\n",
    "\n",
    "# Crear y mostrar la figura\n",
    "fig = go.Figure(data=data, layout=layout)\n",
    "fig.show()"
   ]
  },
  {
   "cell_type": "code",
   "execution_count": 144,
   "metadata": {},
   "outputs": [
    {
     "data": {
      "text/plain": [
       "Index(['category', 'city', 'country', 'customer_id', 'customer_name',\n",
       "       'discount', 'market', 'order_date', 'order_id', 'order_priority',\n",
       "       'product_id', 'product_name', 'profit', 'quantity', 'region', 'row_id',\n",
       "       'sales', 'segment', 'ship_date', 'ship_mode', 'shipping_cost', 'state',\n",
       "       'sub_category', 'year', 'market2', 'weeknum', 'gross_sales',\n",
       "       'discount_$'],\n",
       "      dtype='object')"
      ]
     },
     "execution_count": 144,
     "metadata": {},
     "output_type": "execute_result"
    }
   ],
   "source": [
    "ventas.columns"
   ]
  },
  {
   "cell_type": "code",
   "execution_count": 145,
   "metadata": {},
   "outputs": [],
   "source": [
    "# Porque tables tiene un beneficio negativo\n",
    "neg = ventas[(ventas['sub_category'] == 'Tables') & (ventas['profit'] < 0)].groupby(['year'])[['gross_sales','profit','discount_$','row_id']].agg({'gross_sales':'sum','profit':'sum','discount_$':'sum','row_id':'count'})\n"
   ]
  },
  {
   "cell_type": "code",
   "execution_count": 146,
   "metadata": {},
   "outputs": [],
   "source": [
    "pos = ventas[(ventas['sub_category'] == 'Tables') & (ventas['profit'] > 0)].groupby(['year'])[['gross_sales','profit','discount_$','row_id']].agg({'gross_sales':'sum','profit':'sum','discount_$':'sum','row_id':'count'})"
   ]
  },
  {
   "cell_type": "code",
   "execution_count": 147,
   "metadata": {},
   "outputs": [
    {
     "data": {
      "text/html": [
       "<div>\n",
       "<style scoped>\n",
       "    .dataframe tbody tr th:only-of-type {\n",
       "        vertical-align: middle;\n",
       "    }\n",
       "\n",
       "    .dataframe tbody tr th {\n",
       "        vertical-align: top;\n",
       "    }\n",
       "\n",
       "    .dataframe thead th {\n",
       "        text-align: right;\n",
       "    }\n",
       "</style>\n",
       "<table border=\"1\" class=\"dataframe\">\n",
       "  <thead>\n",
       "    <tr style=\"text-align: right;\">\n",
       "      <th></th>\n",
       "      <th>gross_sales_neg</th>\n",
       "      <th>profit_neg</th>\n",
       "      <th>discount_$_neg</th>\n",
       "      <th>row_id_neg</th>\n",
       "      <th>gross_sales_pos</th>\n",
       "      <th>profit_pos</th>\n",
       "      <th>discount_$_pos</th>\n",
       "      <th>row_id_pos</th>\n",
       "      <th>discount_%_neg</th>\n",
       "      <th>discount_%_pos</th>\n",
       "    </tr>\n",
       "    <tr>\n",
       "      <th>year</th>\n",
       "      <th></th>\n",
       "      <th></th>\n",
       "      <th></th>\n",
       "      <th></th>\n",
       "      <th></th>\n",
       "      <th></th>\n",
       "      <th></th>\n",
       "      <th></th>\n",
       "      <th></th>\n",
       "      <th></th>\n",
       "    </tr>\n",
       "  </thead>\n",
       "  <tbody>\n",
       "    <tr>\n",
       "      <th>2011</th>\n",
       "      <td>115707.411313</td>\n",
       "      <td>-27148.5888</td>\n",
       "      <td>49764.411313</td>\n",
       "      <td>100</td>\n",
       "      <td>91087.644689</td>\n",
       "      <td>16073.2943</td>\n",
       "      <td>9902.644689</td>\n",
       "      <td>70</td>\n",
       "      <td>0.430088</td>\n",
       "      <td>0.108716</td>\n",
       "    </tr>\n",
       "    <tr>\n",
       "      <th>2012</th>\n",
       "      <td>122882.504801</td>\n",
       "      <td>-27619.6444</td>\n",
       "      <td>55488.504801</td>\n",
       "      <td>93</td>\n",
       "      <td>103414.637363</td>\n",
       "      <td>19197.9458</td>\n",
       "      <td>8569.637363</td>\n",
       "      <td>70</td>\n",
       "      <td>0.451557</td>\n",
       "      <td>0.082867</td>\n",
       "    </tr>\n",
       "    <tr>\n",
       "      <th>2013</th>\n",
       "      <td>160796.569430</td>\n",
       "      <td>-35072.1556</td>\n",
       "      <td>71585.569430</td>\n",
       "      <td>131</td>\n",
       "      <td>125766.261369</td>\n",
       "      <td>21031.6684</td>\n",
       "      <td>14805.261369</td>\n",
       "      <td>101</td>\n",
       "      <td>0.445193</td>\n",
       "      <td>0.117720</td>\n",
       "    </tr>\n",
       "    <tr>\n",
       "      <th>2014</th>\n",
       "      <td>218963.974919</td>\n",
       "      <td>-54282.7598</td>\n",
       "      <td>97844.974919</td>\n",
       "      <td>172</td>\n",
       "      <td>135941.825397</td>\n",
       "      <td>23736.8514</td>\n",
       "      <td>13600.825397</td>\n",
       "      <td>119</td>\n",
       "      <td>0.446854</td>\n",
       "      <td>0.100049</td>\n",
       "    </tr>\n",
       "  </tbody>\n",
       "</table>\n",
       "</div>"
      ],
      "text/plain": [
       "      gross_sales_neg  profit_neg  discount_$_neg  row_id_neg  \\\n",
       "year                                                            \n",
       "2011    115707.411313 -27148.5888    49764.411313         100   \n",
       "2012    122882.504801 -27619.6444    55488.504801          93   \n",
       "2013    160796.569430 -35072.1556    71585.569430         131   \n",
       "2014    218963.974919 -54282.7598    97844.974919         172   \n",
       "\n",
       "      gross_sales_pos  profit_pos  discount_$_pos  row_id_pos  discount_%_neg  \\\n",
       "year                                                                            \n",
       "2011     91087.644689  16073.2943     9902.644689          70        0.430088   \n",
       "2012    103414.637363  19197.9458     8569.637363          70        0.451557   \n",
       "2013    125766.261369  21031.6684    14805.261369         101        0.445193   \n",
       "2014    135941.825397  23736.8514    13600.825397         119        0.446854   \n",
       "\n",
       "      discount_%_pos  \n",
       "year                  \n",
       "2011        0.108716  \n",
       "2012        0.082867  \n",
       "2013        0.117720  \n",
       "2014        0.100049  "
      ]
     },
     "execution_count": 147,
     "metadata": {},
     "output_type": "execute_result"
    }
   ],
   "source": [
    "mesas = pd.merge(neg,pos, left_index= True, right_index= True, how = 'outer', suffixes= ['_neg','_pos'])\n",
    "mesas['discount_%_neg'] = mesas['discount_$_neg']/ mesas['gross_sales_neg'] \n",
    "mesas['discount_%_pos'] = mesas['discount_$_pos']/ mesas['gross_sales_pos']   \n",
    "mesas"
   ]
  },
  {
   "cell_type": "code",
   "execution_count": 148,
   "metadata": {},
   "outputs": [],
   "source": [
    "#porque el resto de categorias no\n",
    "\n",
    "resto_neg = ventas[(ventas['sub_category'] != 'Tables') & (ventas['profit'] < 0)].groupby(['year'])[['gross_sales','profit','discount_$','row_id']].agg({'gross_sales':'sum','profit':'sum','discount_$':'sum','row_id':'count'})\n",
    "resto_pos = ventas[(ventas['sub_category'] != 'Tables') & (ventas['profit'] > 0)].groupby(['year'])[['gross_sales','profit','discount_$','row_id']].agg({'gross_sales':'sum','profit':'sum','discount_$':'sum','row_id':'count'})\n",
    "resto = pd.merge(resto_neg,resto_pos, left_index= True, right_index= True, how = 'outer', suffixes= ['_neg','_pos'])"
   ]
  },
  {
   "cell_type": "code",
   "execution_count": 149,
   "metadata": {},
   "outputs": [
    {
     "data": {
      "text/html": [
       "<div>\n",
       "<style scoped>\n",
       "    .dataframe tbody tr th:only-of-type {\n",
       "        vertical-align: middle;\n",
       "    }\n",
       "\n",
       "    .dataframe tbody tr th {\n",
       "        vertical-align: top;\n",
       "    }\n",
       "\n",
       "    .dataframe thead th {\n",
       "        text-align: right;\n",
       "    }\n",
       "</style>\n",
       "<table border=\"1\" class=\"dataframe\">\n",
       "  <thead>\n",
       "    <tr style=\"text-align: right;\">\n",
       "      <th></th>\n",
       "      <th>gross_sales_neg</th>\n",
       "      <th>profit_neg</th>\n",
       "      <th>discount_$_neg</th>\n",
       "      <th>row_id_neg</th>\n",
       "      <th>gross_sales_pos</th>\n",
       "      <th>profit_pos</th>\n",
       "      <th>discount_$_pos</th>\n",
       "      <th>row_id_pos</th>\n",
       "    </tr>\n",
       "    <tr>\n",
       "      <th>year</th>\n",
       "      <th></th>\n",
       "      <th></th>\n",
       "      <th></th>\n",
       "      <th></th>\n",
       "      <th></th>\n",
       "      <th></th>\n",
       "      <th></th>\n",
       "      <th></th>\n",
       "    </tr>\n",
       "  </thead>\n",
       "  <tbody>\n",
       "    <tr>\n",
       "      <th>2011</th>\n",
       "      <td>7.125142e+05</td>\n",
       "      <td>-142159.56772</td>\n",
       "      <td>302180.220428</td>\n",
       "      <td>2122</td>\n",
       "      <td>1.775598e+06</td>\n",
       "      <td>402175.67376</td>\n",
       "      <td>98207.851566</td>\n",
       "      <td>6586</td>\n",
       "    </tr>\n",
       "    <tr>\n",
       "      <th>2012</th>\n",
       "      <td>7.648422e+05</td>\n",
       "      <td>-167722.69646</td>\n",
       "      <td>309768.199759</td>\n",
       "      <td>2596</td>\n",
       "      <td>2.136749e+06</td>\n",
       "      <td>483559.67416</td>\n",
       "      <td>109986.029994</td>\n",
       "      <td>8072</td>\n",
       "    </tr>\n",
       "    <tr>\n",
       "      <th>2013</th>\n",
       "      <td>9.562654e+05</td>\n",
       "      <td>-210835.03222</td>\n",
       "      <td>390377.361246</td>\n",
       "      <td>3191</td>\n",
       "      <td>2.736015e+06</td>\n",
       "      <td>631810.74960</td>\n",
       "      <td>141809.157123</td>\n",
       "      <td>10183</td>\n",
       "    </tr>\n",
       "    <tr>\n",
       "      <th>2014</th>\n",
       "      <td>1.210572e+06</td>\n",
       "      <td>-255805.71072</td>\n",
       "      <td>495484.756370</td>\n",
       "      <td>4139</td>\n",
       "      <td>3.476680e+06</td>\n",
       "      <td>790517.58958</td>\n",
       "      <td>184217.309493</td>\n",
       "      <td>12877</td>\n",
       "    </tr>\n",
       "  </tbody>\n",
       "</table>\n",
       "</div>"
      ],
      "text/plain": [
       "      gross_sales_neg    profit_neg  discount_$_neg  row_id_neg  \\\n",
       "year                                                              \n",
       "2011     7.125142e+05 -142159.56772   302180.220428        2122   \n",
       "2012     7.648422e+05 -167722.69646   309768.199759        2596   \n",
       "2013     9.562654e+05 -210835.03222   390377.361246        3191   \n",
       "2014     1.210572e+06 -255805.71072   495484.756370        4139   \n",
       "\n",
       "      gross_sales_pos    profit_pos  discount_$_pos  row_id_pos  \n",
       "year                                                             \n",
       "2011     1.775598e+06  402175.67376    98207.851566        6586  \n",
       "2012     2.136749e+06  483559.67416   109986.029994        8072  \n",
       "2013     2.736015e+06  631810.74960   141809.157123       10183  \n",
       "2014     3.476680e+06  790517.58958   184217.309493       12877  "
      ]
     },
     "execution_count": 149,
     "metadata": {},
     "output_type": "execute_result"
    }
   ],
   "source": [
    "resto"
   ]
  },
  {
   "cell_type": "code",
   "execution_count": 150,
   "metadata": {},
   "outputs": [],
   "source": [
    "resto['discount_%_neg'] = resto['discount_$_neg'] / resto['gross_sales_neg']\n",
    "resto['discount_%_pos'] = resto['discount_$_pos'] / resto['gross_sales_pos']"
   ]
  },
  {
   "cell_type": "code",
   "execution_count": 151,
   "metadata": {},
   "outputs": [
    {
     "data": {
      "text/html": [
       "<div>\n",
       "<style scoped>\n",
       "    .dataframe tbody tr th:only-of-type {\n",
       "        vertical-align: middle;\n",
       "    }\n",
       "\n",
       "    .dataframe tbody tr th {\n",
       "        vertical-align: top;\n",
       "    }\n",
       "\n",
       "    .dataframe thead th {\n",
       "        text-align: right;\n",
       "    }\n",
       "</style>\n",
       "<table border=\"1\" class=\"dataframe\">\n",
       "  <thead>\n",
       "    <tr style=\"text-align: right;\">\n",
       "      <th></th>\n",
       "      <th>gross_sales_neg</th>\n",
       "      <th>profit_neg</th>\n",
       "      <th>discount_$_neg</th>\n",
       "      <th>row_id_neg</th>\n",
       "      <th>gross_sales_pos</th>\n",
       "      <th>profit_pos</th>\n",
       "      <th>discount_$_pos</th>\n",
       "      <th>row_id_pos</th>\n",
       "      <th>discount_%_neg</th>\n",
       "      <th>discount_%_pos</th>\n",
       "    </tr>\n",
       "    <tr>\n",
       "      <th>year</th>\n",
       "      <th></th>\n",
       "      <th></th>\n",
       "      <th></th>\n",
       "      <th></th>\n",
       "      <th></th>\n",
       "      <th></th>\n",
       "      <th></th>\n",
       "      <th></th>\n",
       "      <th></th>\n",
       "      <th></th>\n",
       "    </tr>\n",
       "  </thead>\n",
       "  <tbody>\n",
       "    <tr>\n",
       "      <th>2011</th>\n",
       "      <td>7.125142e+05</td>\n",
       "      <td>-142159.56772</td>\n",
       "      <td>302180.220428</td>\n",
       "      <td>2122</td>\n",
       "      <td>1.775598e+06</td>\n",
       "      <td>402175.67376</td>\n",
       "      <td>98207.851566</td>\n",
       "      <td>6586</td>\n",
       "      <td>0.424104</td>\n",
       "      <td>0.055310</td>\n",
       "    </tr>\n",
       "    <tr>\n",
       "      <th>2012</th>\n",
       "      <td>7.648422e+05</td>\n",
       "      <td>-167722.69646</td>\n",
       "      <td>309768.199759</td>\n",
       "      <td>2596</td>\n",
       "      <td>2.136749e+06</td>\n",
       "      <td>483559.67416</td>\n",
       "      <td>109986.029994</td>\n",
       "      <td>8072</td>\n",
       "      <td>0.405009</td>\n",
       "      <td>0.051474</td>\n",
       "    </tr>\n",
       "    <tr>\n",
       "      <th>2013</th>\n",
       "      <td>9.562654e+05</td>\n",
       "      <td>-210835.03222</td>\n",
       "      <td>390377.361246</td>\n",
       "      <td>3191</td>\n",
       "      <td>2.736015e+06</td>\n",
       "      <td>631810.74960</td>\n",
       "      <td>141809.157123</td>\n",
       "      <td>10183</td>\n",
       "      <td>0.408231</td>\n",
       "      <td>0.051831</td>\n",
       "    </tr>\n",
       "    <tr>\n",
       "      <th>2014</th>\n",
       "      <td>1.210572e+06</td>\n",
       "      <td>-255805.71072</td>\n",
       "      <td>495484.756370</td>\n",
       "      <td>4139</td>\n",
       "      <td>3.476680e+06</td>\n",
       "      <td>790517.58958</td>\n",
       "      <td>184217.309493</td>\n",
       "      <td>12877</td>\n",
       "      <td>0.409298</td>\n",
       "      <td>0.052987</td>\n",
       "    </tr>\n",
       "  </tbody>\n",
       "</table>\n",
       "</div>"
      ],
      "text/plain": [
       "      gross_sales_neg    profit_neg  discount_$_neg  row_id_neg  \\\n",
       "year                                                              \n",
       "2011     7.125142e+05 -142159.56772   302180.220428        2122   \n",
       "2012     7.648422e+05 -167722.69646   309768.199759        2596   \n",
       "2013     9.562654e+05 -210835.03222   390377.361246        3191   \n",
       "2014     1.210572e+06 -255805.71072   495484.756370        4139   \n",
       "\n",
       "      gross_sales_pos    profit_pos  discount_$_pos  row_id_pos  \\\n",
       "year                                                              \n",
       "2011     1.775598e+06  402175.67376    98207.851566        6586   \n",
       "2012     2.136749e+06  483559.67416   109986.029994        8072   \n",
       "2013     2.736015e+06  631810.74960   141809.157123       10183   \n",
       "2014     3.476680e+06  790517.58958   184217.309493       12877   \n",
       "\n",
       "      discount_%_neg  discount_%_pos  \n",
       "year                                  \n",
       "2011        0.424104        0.055310  \n",
       "2012        0.405009        0.051474  \n",
       "2013        0.408231        0.051831  \n",
       "2014        0.409298        0.052987  "
      ]
     },
     "execution_count": 151,
     "metadata": {},
     "output_type": "execute_result"
    }
   ],
   "source": [
    "resto"
   ]
  },
  {
   "cell_type": "code",
   "execution_count": 152,
   "metadata": {},
   "outputs": [
    {
     "data": {
      "text/plain": [
       "-920646.1557200002"
      ]
     },
     "execution_count": 152,
     "metadata": {},
     "output_type": "execute_result"
    }
   ],
   "source": [
    "#calculamos todo el beneficio negativo\n",
    "\n",
    "ventas[ventas['profit'] < 0]['profit'].sum()"
   ]
  },
  {
   "cell_type": "code",
   "execution_count": 153,
   "metadata": {},
   "outputs": [
    {
     "data": {
      "text/html": [
       "<div>\n",
       "<style scoped>\n",
       "    .dataframe tbody tr th:only-of-type {\n",
       "        vertical-align: middle;\n",
       "    }\n",
       "\n",
       "    .dataframe tbody tr th {\n",
       "        vertical-align: top;\n",
       "    }\n",
       "\n",
       "    .dataframe thead th {\n",
       "        text-align: right;\n",
       "    }\n",
       "</style>\n",
       "<table border=\"1\" class=\"dataframe\">\n",
       "  <thead>\n",
       "    <tr style=\"text-align: right;\">\n",
       "      <th></th>\n",
       "      <th>sales</th>\n",
       "      <th>cost</th>\n",
       "    </tr>\n",
       "    <tr>\n",
       "      <th>year</th>\n",
       "      <th></th>\n",
       "      <th></th>\n",
       "    </tr>\n",
       "  </thead>\n",
       "  <tbody>\n",
       "    <tr>\n",
       "      <th>2011</th>\n",
       "      <td>476277</td>\n",
       "      <td>306968.84348</td>\n",
       "    </tr>\n",
       "    <tr>\n",
       "      <th>2012</th>\n",
       "      <td>522468</td>\n",
       "      <td>327125.65914</td>\n",
       "    </tr>\n",
       "    <tr>\n",
       "      <th>2013</th>\n",
       "      <td>655099</td>\n",
       "      <td>409191.81218</td>\n",
       "    </tr>\n",
       "    <tr>\n",
       "      <th>2014</th>\n",
       "      <td>836206</td>\n",
       "      <td>526117.52948</td>\n",
       "    </tr>\n",
       "  </tbody>\n",
       "</table>\n",
       "</div>"
      ],
      "text/plain": [
       "       sales          cost\n",
       "year                      \n",
       "2011  476277  306968.84348\n",
       "2012  522468  327125.65914\n",
       "2013  655099  409191.81218\n",
       "2014  836206  526117.52948"
      ]
     },
     "execution_count": 153,
     "metadata": {},
     "output_type": "execute_result"
    }
   ],
   "source": [
    "#calculamos cuanto podriamos ganar vendiendo a coste (sin los descuentos tan agresivos)\n",
    "#calculamos la columna coste\n",
    "\n",
    "ventas['cost'] = ventas['sales'] + ventas['profit']\n",
    "\n",
    "venta_coste = ventas[ventas['profit'] < 0].groupby(['year'])[['sales','cost']].sum()\n",
    "\n",
    "venta_coste"
   ]
  },
  {
   "cell_type": "code",
   "execution_count": 154,
   "metadata": {},
   "outputs": [
    {
     "data": {
      "text/plain": [
       "'La categoria de mesas no tiene un punto de precio adecuado, porque al mismo descuento medio y margen incurrimos en perdidas. Deberiamos hacer una politica de pricing o si el precio es acorde buscar un proveedor que me de precios de coste mejores'"
      ]
     },
     "execution_count": 154,
     "metadata": {},
     "output_type": "execute_result"
    }
   ],
   "source": [
    "'''La categoria de mesas no tiene un punto de precio adecuado, porque al mismo descuento medio y margen incurrimos en perdidas. Deberiamos hacer una politica de pricing o si el precio es acorde buscar un proveedor que me de precios de coste mejores'''"
   ]
  },
  {
   "cell_type": "code",
   "execution_count": 184,
   "metadata": {},
   "outputs": [],
   "source": [
    "# descuentos: donde están. \n",
    "\n",
    "perdidas_11 = ventas[(ventas['profit'] < 0) & (ventas['year'] == 2011)]['product_name'].unique()\n",
    "perdidas_12 = ventas[(ventas['profit'] < 0) & (ventas['year'] == 2012)]['product_name'].unique()\n",
    "perdidas_13 = ventas[(ventas['profit'] < 0) & (ventas['year'] == 2013)]['product_name'].unique()\n",
    "perdidas_14 = ventas[(ventas['profit'] < 0) & (ventas['year'] == 2014)]['product_name'].unique()\n",
    "\n"
   ]
  },
  {
   "cell_type": "code",
   "execution_count": 186,
   "metadata": {},
   "outputs": [
    {
     "data": {
      "text/plain": [
       "1441"
      ]
     },
     "execution_count": 186,
     "metadata": {},
     "output_type": "execute_result"
    }
   ],
   "source": [
    "perdidas_11"
   ]
  },
  {
   "cell_type": "code",
   "execution_count": 187,
   "metadata": {},
   "outputs": [
    {
     "data": {
      "text/plain": [
       "1569"
      ]
     },
     "execution_count": 187,
     "metadata": {},
     "output_type": "execute_result"
    }
   ],
   "source": [
    "perdidas_12"
   ]
  },
  {
   "cell_type": "code",
   "execution_count": 174,
   "metadata": {},
   "outputs": [
    {
     "data": {
      "text/plain": [
       "1726"
      ]
     },
     "execution_count": 174,
     "metadata": {},
     "output_type": "execute_result"
    }
   ],
   "source": [
    "perdidas_13"
   ]
  },
  {
   "cell_type": "code",
   "execution_count": 158,
   "metadata": {},
   "outputs": [
    {
     "data": {
      "text/plain": [
       "array(['Nokia Office Telephone, with Caller ID', 'Okidata Printer, Red',\n",
       "       'StarTech Inkjet, Durable', ...,\n",
       "       'Novimex Swivel Fabric Task Chair',\n",
       "       'Anderson Hickey Conga Table Tops & Accessories',\n",
       "       'Shocksock Galaxy S4 Armband'], dtype=object)"
      ]
     },
     "execution_count": 158,
     "metadata": {},
     "output_type": "execute_result"
    }
   ],
   "source": [
    "perdidas_14"
   ]
  },
  {
   "cell_type": "code",
   "execution_count": 189,
   "metadata": {},
   "outputs": [
    {
     "name": "stdout",
     "output_type": "stream",
     "text": [
      "866 994 1151 1414\n"
     ]
    }
   ],
   "source": [
    "#comunes a los 4 arrays\n",
    "\n",
    "com_1 = np.intersect1d(perdidas_11,perdidas_12)\n",
    "com_2 = np.intersect1d(com_1,perdidas_13)\n",
    "com_3 = np.intersect1d(com_2,perdidas_14)\n",
    "\n",
    "len(com_3)\n",
    "\n",
    "len(ventas['product_name'].unique())\n",
    "\n",
    "#575 referencias todos los años de 3788, todos los años aparecen:\n",
    "#2011:\n",
    "nuevas_11 = len(perdidas_11) - len(com_3)\n",
    "nuevas_12 = len(perdidas_12) - len(com_3)\n",
    "nuevas_13 = len(perdidas_13) - len(com_3)\n",
    "nuevas_14 = len(perdidas_14) - len(com_3)\n",
    "\n",
    "print(nuevas_11,nuevas_12,nuevas_13,nuevas_14)"
   ]
  },
  {
   "cell_type": "code",
   "execution_count": null,
   "metadata": {},
   "outputs": [
    {
     "data": {
      "text/html": [
       "<div>\n",
       "<style scoped>\n",
       "    .dataframe tbody tr th:only-of-type {\n",
       "        vertical-align: middle;\n",
       "    }\n",
       "\n",
       "    .dataframe tbody tr th {\n",
       "        vertical-align: top;\n",
       "    }\n",
       "\n",
       "    .dataframe thead th {\n",
       "        text-align: right;\n",
       "    }\n",
       "</style>\n",
       "<table border=\"1\" class=\"dataframe\">\n",
       "  <thead>\n",
       "    <tr style=\"text-align: right;\">\n",
       "      <th></th>\n",
       "      <th>segment</th>\n",
       "      <th>sales</th>\n",
       "      <th>profit</th>\n",
       "      <th>quantity</th>\n",
       "      <th>discount</th>\n",
       "      <th>margen</th>\n",
       "    </tr>\n",
       "  </thead>\n",
       "  <tbody>\n",
       "    <tr>\n",
       "      <th>0</th>\n",
       "      <td>Consumer</td>\n",
       "      <td>6508141</td>\n",
       "      <td>749239.78206</td>\n",
       "      <td>92157</td>\n",
       "      <td>3808.042</td>\n",
       "      <td>0.115123</td>\n",
       "    </tr>\n",
       "    <tr>\n",
       "      <th>1</th>\n",
       "      <td>Corporate</td>\n",
       "      <td>3824808</td>\n",
       "      <td>441208.32866</td>\n",
       "      <td>53565</td>\n",
       "      <td>2205.284</td>\n",
       "      <td>0.115354</td>\n",
       "    </tr>\n",
       "    <tr>\n",
       "      <th>2</th>\n",
       "      <td>Home Office</td>\n",
       "      <td>2309956</td>\n",
       "      <td>277009.18056</td>\n",
       "      <td>32590</td>\n",
       "      <td>1316.402</td>\n",
       "      <td>0.119920</td>\n",
       "    </tr>\n",
       "  </tbody>\n",
       "</table>\n",
       "</div>"
      ],
      "text/plain": [
       "       segment    sales        profit  quantity  discount    margen\n",
       "0     Consumer  6508141  749239.78206     92157  3808.042  0.115123\n",
       "1    Corporate  3824808  441208.32866     53565  2205.284  0.115354\n",
       "2  Home Office  2309956  277009.18056     32590  1316.402  0.119920"
      ]
     },
     "execution_count": 58,
     "metadata": {},
     "output_type": "execute_result"
    }
   ],
   "source": [
    "# Los clientes del segmento corporate son los que más compran, volumen de pedidos, volumen por pedido, y en beneficio.\n",
    "\n",
    "cluster = ventas.groupby(['segment'], as_index = False)[['sales','profit','quantity','discount']].sum()\n",
    "cluster['margen'] = cluster['profit'] / cluster['sales'] \n",
    "cluster"
   ]
  },
  {
   "cell_type": "code",
   "execution_count": null,
   "metadata": {},
   "outputs": [
    {
     "data": {
      "text/plain": [
       "customer_name\n",
       "Aaron Bergman         24646\n",
       "Aaron Hawkins         20759\n",
       "Aaron Smayling        14207\n",
       "Adam Bellavance       20189\n",
       "Adam Hart             21720\n",
       "                      ...  \n",
       "Xylona Preis          12202\n",
       "Yana Sorensen         20034\n",
       "Yoseph Carroll        20165\n",
       "Zuschuss Carroll      28485\n",
       "Zuschuss Donatelli    12434\n",
       "Name: sales, Length: 795, dtype: int64"
      ]
     },
     "execution_count": 59,
     "metadata": {},
     "output_type": "execute_result"
    }
   ],
   "source": [
    "# Tengo la venta y el beneficio centralizados en unos pocos clientes, lo demas son clientes residuales (80-20) cumul = True\n",
    "\n",
    "clientes_v = ventas['clientes']\n",
    "clientes_v\n"
   ]
  },
  {
   "cell_type": "code",
   "execution_count": null,
   "metadata": {},
   "outputs": [
    {
     "data": {
      "image/png": "[encoded data removed]",
      "text/plain": [
       "<Figure size 640x480 with 1 Axes>"
      ]
     },
     "metadata": {},
     "output_type": "display_data"
    }
   ],
   "source": [
    "\n",
    "fig, ax = plt.subplots()\n",
    "ax.hist(clientes_v, bins = 50, cumulative = True);"
   ]
  },
  {
   "cell_type": "code",
   "execution_count": 191,
   "metadata": {},
   "outputs": [],
   "source": [
    "# Gano clientes nuevos todos los años. NO GANO CLIENTES NUEVOS TODOS LOS AÑOS. PODRIAMOS CAPTAR NUEVOS CLIENTES Y GANAR MAS DINERO\n",
    "\n",
    "n_cus_11 = len(ventas[ventas['year'] == 2011]['customer_name'].unique())\n"
   ]
  },
  {
   "cell_type": "code",
   "execution_count": 192,
   "metadata": {},
   "outputs": [],
   "source": [
    "n_cus_12 = len(ventas[ventas['year'] == 2012]['customer_name'].unique())"
   ]
  },
  {
   "cell_type": "code",
   "execution_count": 193,
   "metadata": {},
   "outputs": [],
   "source": [
    "n_cus_13 = len(ventas[ventas['year'] == 2013]['customer_name'].unique())"
   ]
  },
  {
   "cell_type": "code",
   "execution_count": 190,
   "metadata": {},
   "outputs": [],
   "source": [
    "n_cus_14 = len(ventas[ventas['year'] == 2014]['customer_name'].unique())"
   ]
  },
  {
   "cell_type": "code",
   "execution_count": 211,
   "metadata": {},
   "outputs": [
    {
     "name": "stdout",
     "output_type": "stream",
     "text": [
      "11.318238993710692 13.788679245283019 17.357232704402517 22.079345088161208\n"
     ]
    },
    {
     "data": {
      "text/html": [
       "<div>\n",
       "<style scoped>\n",
       "    .dataframe tbody tr th:only-of-type {\n",
       "        vertical-align: middle;\n",
       "    }\n",
       "\n",
       "    .dataframe tbody tr th {\n",
       "        vertical-align: top;\n",
       "    }\n",
       "\n",
       "    .dataframe thead th {\n",
       "        text-align: right;\n",
       "    }\n",
       "</style>\n",
       "<table border=\"1\" class=\"dataframe\">\n",
       "  <thead>\n",
       "    <tr style=\"text-align: right;\">\n",
       "      <th></th>\n",
       "      <th>year</th>\n",
       "      <th>no_clientes</th>\n",
       "      <th>tasa_rep</th>\n",
       "    </tr>\n",
       "  </thead>\n",
       "  <tbody>\n",
       "    <tr>\n",
       "      <th>0</th>\n",
       "      <td>2011</td>\n",
       "      <td>795</td>\n",
       "      <td>11.318239</td>\n",
       "    </tr>\n",
       "    <tr>\n",
       "      <th>1</th>\n",
       "      <td>2012</td>\n",
       "      <td>795</td>\n",
       "      <td>13.788679</td>\n",
       "    </tr>\n",
       "    <tr>\n",
       "      <th>2</th>\n",
       "      <td>2013</td>\n",
       "      <td>795</td>\n",
       "      <td>17.357233</td>\n",
       "    </tr>\n",
       "    <tr>\n",
       "      <th>3</th>\n",
       "      <td>2014</td>\n",
       "      <td>794</td>\n",
       "      <td>22.079345</td>\n",
       "    </tr>\n",
       "  </tbody>\n",
       "</table>\n",
       "</div>"
      ],
      "text/plain": [
       "   year  no_clientes   tasa_rep\n",
       "0  2011          795  11.318239\n",
       "1  2012          795  13.788679\n",
       "2  2013          795  17.357233\n",
       "3  2014          794  22.079345"
      ]
     },
     "execution_count": 211,
     "metadata": {},
     "output_type": "execute_result"
    }
   ],
   "source": [
    "#tasa media de repeticion\n",
    "\n",
    "tasa_11 = (v_kpi2.loc[2011,'order_id']) / n_cus_11\n",
    "tasa_12 = (v_kpi2.loc[2012,'order_id']) / n_cus_12\n",
    "tasa_13 = (v_kpi2.loc[2013,'order_id']) / n_cus_13\n",
    "tasa_14 =(v_kpi2.loc[2014,'order_id']) / n_cus_14\n",
    "\n",
    "print(tasa_11,tasa_12,tasa_13,tasa_14)\n",
    "\n",
    "tasa = pd.DataFrame(data = {'year': [2011,2012,2013,2014],\n",
    "'no_clientes' : [n_cus_11,n_cus_12,n_cus_13,n_cus_14],\n",
    "'tasa_rep': [tasa_11,tasa_12,tasa_13,tasa_14]})\n",
    "tasa\n"
   ]
  },
  {
   "cell_type": "code",
   "execution_count": 212,
   "metadata": {},
   "outputs": [
    {
     "data": {
      "text/plain": [
       "<Axes: xlabel='year', ylabel='no_clientes'>"
      ]
     },
     "execution_count": 212,
     "metadata": {},
     "output_type": "execute_result"
    },
    {
     "data": {
      "image/png": "[encoded data removed]",
      "text/plain": [
       "<Figure size 640x480 with 1 Axes>"
      ]
     },
     "metadata": {},
     "output_type": "display_data"
    }
   ],
   "source": [
    "sns.barplot(tasa, x = 'year', y = 'no_clientes', hue = 'year', palette = 'flare')"
   ]
  },
  {
   "cell_type": "code",
   "execution_count": null,
   "metadata": {},
   "outputs": [],
   "source": []
  }
 ],
 "metadata": {
  "kernelspec": {
   "display_name": "Python 3",
   "language": "python",
   "name": "python3"
  },
  "language_info": {
   "codemirror_mode": {
    "name": "ipython",
    "version": 3
   },
   "file_extension": ".py",
   "mimetype": "text/x-python",
   "name": "python",
   "nbconvert_exporter": "python",
   "pygments_lexer": "ipython3",
   "version": "3.12.2"
  }
 },
 "nbformat": 4,
 "nbformat_minor": 2
}
